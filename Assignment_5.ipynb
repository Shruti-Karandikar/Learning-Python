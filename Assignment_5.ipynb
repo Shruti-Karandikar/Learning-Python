{
 "cells": [
  {
   "cell_type": "markdown",
   "metadata": {},
   "source": [
    "### 1. Count the number of uppercase and lowercase letters in a string"
   ]
  },
  {
   "cell_type": "code",
   "execution_count": 98,
   "metadata": {},
   "outputs": [
    {
     "name": "stdout",
     "output_type": "stream",
     "text": [
      "3\n",
      "14\n"
     ]
    }
   ],
   "source": [
    "word = input(\"Enter a sentence with caps and lowercase letters:\" )\n",
    "Uppercase = 0 \n",
    "Lowercase = 0\n",
    "for letter in word:\n",
    "    if (letter == letter.capitalize()):\n",
    "        Uppercase = Uppercase + 1\n",
    "    else:\n",
    "        Lowercase = Lowercase + 1   \n",
    "print(Uppercase)\n",
    "print(Lowercase)"
   ]
  },
  {
   "cell_type": "markdown",
   "metadata": {},
   "source": [
    "### 2. Count the number of words in a string"
   ]
  },
  {
   "cell_type": "code",
   "execution_count": 23,
   "metadata": {},
   "outputs": [
    {
     "data": {
      "text/plain": [
       "5"
      ]
     },
     "execution_count": 23,
     "metadata": {},
     "output_type": "execute_result"
    }
   ],
   "source": [
    "w = input()\n",
    "len(w.split())"
   ]
  },
  {
   "cell_type": "markdown",
   "metadata": {},
   "source": [
    "### 3. Check if a given word is a palindrome"
   ]
  },
  {
   "cell_type": "code",
   "execution_count": 99,
   "metadata": {},
   "outputs": [
    {
     "name": "stdout",
     "output_type": "stream",
     "text": [
      "This is a palindrome\n"
     ]
    }
   ],
   "source": [
    "check = input(\"Enter a string: \")\n",
    "if (check == check[::-1]):\n",
    "    print(\"This is a palindrome\")\n",
    "else:\n",
    "    print(\"This is not a palindrome\")"
   ]
  },
  {
   "cell_type": "markdown",
   "metadata": {},
   "source": [
    "### 4. Check if a given string is a palindrome, ignoring spaces"
   ]
  },
  {
   "cell_type": "code",
   "execution_count": 100,
   "metadata": {},
   "outputs": [
    {
     "name": "stdout",
     "output_type": "stream",
     "text": [
      "This is a palindrome\n"
     ]
    }
   ],
   "source": [
    "check = input(\"Enter a string: \")\n",
    "check = \"\".join(check.split(\" \"))\n",
    "if (check == check[::-1]):\n",
    "    print(\"This is a palindrome\")\n",
    "else:\n",
    "    print(\"This is not a palindrome\")"
   ]
  },
  {
   "cell_type": "markdown",
   "metadata": {},
   "source": [
    "### 5. Check if a given string is a palindrome, with capital letters"
   ]
  },
  {
   "cell_type": "code",
   "execution_count": 102,
   "metadata": {},
   "outputs": [
    {
     "name": "stdout",
     "output_type": "stream",
     "text": [
      "This is a palindrome\n"
     ]
    }
   ],
   "source": [
    "check = input(\"Enter a string: \")\n",
    "n = check.lower()\n",
    "n = \"\".join(n.split(\" \"))\n",
    "if (n == n[::-1]):\n",
    "    print(\"This is a palindrome\")\n",
    "else:\n",
    "    print(\"This is not a palindrome\") \n"
   ]
  },
  {
   "cell_type": "markdown",
   "metadata": {},
   "source": [
    "### 6. Check if a given string is a palindrome, remove punctuation"
   ]
  },
  {
   "cell_type": "code",
   "execution_count": 122,
   "metadata": {},
   "outputs": [
    {
     "name": "stdout",
     "output_type": "stream",
     "text": [
      "madam im adam\n",
      "This is a palindrome\n"
     ]
    }
   ],
   "source": [
    "check = input(\"Enter a string: \")\n",
    "##replace punctuations w spaces.\n",
    "n = check.translate(str.maketrans('', '' ,\",.;@#?!&$'\"))\n",
    "#n = \"\".join(check.split(\"\\'\"))\n",
    "print(n)\n",
    "n = \"\".join(n.split(\" \"))\n",
    "if (n == n[::-1]):\n",
    "    print(\"This is a palindrome\")\n",
    "else:\n",
    "    print(\"This is not a palindrome\")"
   ]
  },
  {
   "cell_type": "markdown",
   "metadata": {},
   "source": [
    "### 7. Sarcasticizer: Capitalise every 3rd letter in a string"
   ]
  },
  {
   "cell_type": "code",
   "execution_count": 82,
   "metadata": {},
   "outputs": [
    {
     "name": "stdout",
     "output_type": "stream",
     "text": [
      "DfhJdgHgaLa\n"
     ]
    }
   ],
   "source": [
    "newword = \"\"\n",
    "word = input()\n",
    "for i in range(len(word)):\n",
    "    if(i % 3 == 0):\n",
    "        newword = newword + word[i].capitalize()\n",
    "    else:\n",
    "        newword = newword + word[i].lower()\n",
    "print(newword)\n"
   ]
  },
  {
   "cell_type": "markdown",
   "metadata": {},
   "source": [
    "### 8. Reverse all the letters in a string"
   ]
  },
  {
   "cell_type": "code",
   "execution_count": 107,
   "metadata": {},
   "outputs": [
    {
     "name": "stdout",
     "output_type": "stream",
     "text": [
      "rakidnarakiturhs\n"
     ]
    }
   ],
   "source": [
    "n = input()\n",
    "c = n.lower()\n",
    "print(c[::-1])"
   ]
  },
  {
   "cell_type": "markdown",
   "metadata": {},
   "source": [
    "### 9. Reverse all the words in a string"
   ]
  },
  {
   "cell_type": "code",
   "execution_count": null,
   "metadata": {},
   "outputs": [
    {
     "name": "stdout",
     "output_type": "stream",
     "text": [
      "rakidnarak iturhs\n"
     ]
    }
   ],
   "source": [
    "s = input()\n",
    "n = s.split(\" \")\n",
    "n = n[::-1]\n",
    "s = \" \".join(n)\n",
    "print(s)"
   ]
  },
  {
   "cell_type": "markdown",
   "metadata": {},
   "source": [
    "### 10. Reverse the letters of the words of a string"
   ]
  },
  {
   "cell_type": "code",
   "execution_count": 128,
   "metadata": {},
   "outputs": [
    {
     "name": "stdout",
     "output_type": "stream",
     "text": [
      "ym eman si iturhs\n"
     ]
    }
   ],
   "source": [
    "new = []\n",
    "s = input()\n",
    "n = s.split(\" \")\n",
    "for element in n:\n",
    "    new.append(element[::-1])\n",
    "s = \" \".join(new) \n",
    "print(s)"
   ]
  },
  {
   "cell_type": "markdown",
   "metadata": {},
   "source": [
    "### 11. Count the number of vowels in a string"
   ]
  },
  {
   "cell_type": "code",
   "execution_count": null,
   "metadata": {},
   "outputs": [
    {
     "name": "stdout",
     "output_type": "stream",
     "text": [
      "Number of vowels:  4\n"
     ]
    }
   ],
   "source": [
    "#1\n",
    "s = input(\"A srt without spaces: \")\n",
    "count = 0\n",
    "for letter in s:\n",
    "    if (letter == 'a') or (letter == 'e') or (letter == 'i') or (letter == 'o') or (letter == 'u'):\n",
    "        count = count + 1\n",
    "    \n",
    "print('Number of vowels: ',  count)"
   ]
  },
  {
   "cell_type": "code",
   "execution_count": null,
   "metadata": {},
   "outputs": [
    {
     "name": "stdout",
     "output_type": "stream",
     "text": [
      "4\n"
     ]
    }
   ],
   "source": [
    "#2\n",
    "a = input(\"A srt without spaces: \")\n",
    "s = []\n",
    "num = 0\n",
    "vowels = [\"a\", \"e\", \"i\", \"o\", \"u\",]\n",
    "for v in vowels:\n",
    "    num = num + a.count(v)\n",
    "print(num)"
   ]
  }
 ],
 "metadata": {
  "kernelspec": {
   "display_name": "Python 3",
   "language": "python",
   "name": "python3"
  },
  "language_info": {
   "codemirror_mode": {
    "name": "ipython",
    "version": 3
   },
   "file_extension": ".py",
   "mimetype": "text/x-python",
   "name": "python",
   "nbconvert_exporter": "python",
   "pygments_lexer": "ipython3",
   "version": "3.9.6"
  }
 },
 "nbformat": 4,
 "nbformat_minor": 2
}
