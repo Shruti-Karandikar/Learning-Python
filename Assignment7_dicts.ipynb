{
 "cells": [
  {
   "cell_type": "code",
   "execution_count": 2,
   "metadata": {},
   "outputs": [
    {
     "name": "stdout",
     "output_type": "stream",
     "text": [
      "{'a': 5, '2': 0}\n",
      "{'a': 5, '2': 0, 'b': 2}\n"
     ]
    }
   ],
   "source": [
    "#Creating a dictionary and addiing elements (key-value pairs)\n",
    "d1 = {}\n",
    "d2 = {'a': 5, '2': 0}\n",
    "print(d2)\n",
    "d2['b'] = 2\n",
    "print(d2)"
   ]
  },
  {
   "cell_type": "code",
   "execution_count": 4,
   "metadata": {},
   "outputs": [
    {
     "name": "stdout",
     "output_type": "stream",
     "text": [
      "a\n",
      "2\n",
      "b\n",
      "5\n",
      "0\n",
      "2\n",
      "a 5\n",
      "2 0\n",
      "b 2\n",
      "2\n"
     ]
    }
   ],
   "source": [
    "#Accessing dictionary elements\n",
    "print(\"keys:\")\n",
    "for k in d2.keys():\n",
    "    print(k)\n",
    "\n",
    "print(\"values:\")\n",
    "for v in d2.values():\n",
    "    print(v)\n",
    "\n",
    "print(\"keys:values\")\n",
    "for k, v in d2.items():\n",
    "    print(k, v)\n",
    "print(d2['b'])"
   ]
  },
  {
   "cell_type": "code",
   "execution_count": 5,
   "metadata": {},
   "outputs": [
    {
     "name": "stdout",
     "output_type": "stream",
     "text": [
      "{'h': 1, 'e': 1, 'l': 3, 'o': 2, ' ': 1, 'w': 1, 'r': 1, 'd': 1}\n"
     ]
    }
   ],
   "source": [
    "#Count letter frequncies in a string\n",
    "s = \"hello world\"\n",
    "d = {}\n",
    "for c in s:\n",
    "    if c in d:\n",
    "        d[c] = d[c] + 1\n",
    "    else:\n",
    "        d[c] = 1\n",
    "print(d)"
   ]
  },
  {
   "cell_type": "code",
   "execution_count": 9,
   "metadata": {},
   "outputs": [
    {
     "name": "stdout",
     "output_type": "stream",
     "text": [
      "{'1': 'a', '2': 'b', '3': 'c'}\n"
     ]
    }
   ],
   "source": [
    "#swapping keys and values\n",
    "d1 = {'a': '1', 'b': '2', 'c': '3'}\n",
    "d2 = {}\n",
    "for key, value in d1.items():\n",
    "    d2[value] = key\n",
    "print(d2)"
   ]
  },
  {
   "cell_type": "markdown",
   "metadata": {},
   "source": [
    "##### Create a dictionary (using comprehension) of numbers and some function of these numbers. For example, you could generate a random number to use as the key, and its sine (or exp, or …) as the value. A dict has unique keys, but not unique values. Ensure that your dict has a few replicated values (for example, sin (0) = sin(\\pi) = sin(2\\pi) = 0)"
   ]
  },
  {
   "cell_type": "code",
   "execution_count": 10,
   "metadata": {},
   "outputs": [
    {
     "name": "stdout",
     "output_type": "stream",
     "text": [
      "{0: 0, 1: 1, 2: 4, 3: 9, 4: 16}\n"
     ]
    }
   ],
   "source": [
    "#Without dict comprehension\n",
    "d1 = {}\n",
    "for x in range(5):\n",
    "    d1[x] = x**2\n",
    "print(d1)\n"
   ]
  },
  {
   "cell_type": "code",
   "execution_count": 34,
   "metadata": {},
   "outputs": [
    {
     "name": "stdout",
     "output_type": "stream",
     "text": [
      "{0: 0, 1: 1, 2: 4, 3: 9, 4: 16}\n"
     ]
    }
   ],
   "source": [
    "#With dict comprehension\n",
    "d1 = {x : x**2 for x in range(5)}\n",
    "print(d1)"
   ]
  },
  {
   "cell_type": "markdown",
   "metadata": {},
   "source": [
    "#### Write a function to do a reverse lookup on the above dictionary. Given a value, find the corresponding key. And find all the keys, not just the first one. What are the arguments to the function? What does the function return?"
   ]
  },
  {
   "cell_type": "code",
   "execution_count": 22,
   "metadata": {},
   "outputs": [],
   "source": [
    "# Iterate through all keys and save the ones with the required value.\n",
    "# Inputs: The dictionary and the value.\n",
    "# Outputs: list of keys that have this value.\n",
    "\n",
    "def findkey(d1, value):\n",
    "    key1 = []\n",
    "    for key in d1:\n",
    "        if d1[key] == value:\n",
    "            key1.append(key)\n",
    "    return key1"
   ]
  },
  {
   "cell_type": "code",
   "execution_count": 24,
   "metadata": {},
   "outputs": [
    {
     "name": "stdout",
     "output_type": "stream",
     "text": [
      "[4, -4]\n"
     ]
    }
   ],
   "source": [
    "d1[-4] = 16\n",
    "print(findkey(d1, 16))"
   ]
  },
  {
   "cell_type": "markdown",
   "metadata": {},
   "source": [
    "#### Create two dictionaries, where the values are numbers. You could use the approach in step 1 above, and use a different function for the values. Write a function to combine the two dictionaries: if the keys are unique, just copy the entry to the combined dict. If the key exists in both dicts, then add the corresponding values."
   ]
  },
  {
   "cell_type": "code",
   "execution_count": 41,
   "metadata": {},
   "outputs": [
    {
     "name": "stdout",
     "output_type": "stream",
     "text": [
      "{0: 0, 1: 1, 2: 4, 3: 9, 4: 16}\n",
      "{0: 0, 1: 0, 2: 1, 3: 1, 4: 2, 5: 2}\n",
      "{0: 0, 1: 1, 2: 5, 3: 10, 4: 18}\n",
      "{0: 0, 1: 1, 2: 5, 3: 10, 4: 18, 5: 2}\n"
     ]
    }
   ],
   "source": [
    "# Iterate through one dictionary implementing the logic above.\n",
    "# Then iterate through the second dictionry for keys not encountered before.\n",
    "\n",
    "d2 = {x :x//2 for x in range(6)}\n",
    "d3 = {}\n",
    "for k in d1.keys():\n",
    "    #print(k)\n",
    "    if k in d2:\n",
    "        d3[k] = d1[k] + d2[k]\n",
    "    else:\n",
    "        d3[k] = d1[k]\n",
    "\n",
    "print(d1)\n",
    "print(d2)\n",
    "print(d3)\n",
    "\n",
    "for k in d2.keys():\n",
    "    if k not in d1:\n",
    "        d3[k] = d2[k]\n",
    "print(d3)"
   ]
  },
  {
   "cell_type": "markdown",
   "metadata": {},
   "source": [
    "#### Give a value, remove the corresponding key from your dictionary.\n"
   ]
  },
  {
   "cell_type": "code",
   "execution_count": 52,
   "metadata": {},
   "outputs": [
    {
     "name": "stdout",
     "output_type": "stream",
     "text": [
      "{'a': 1, 'b': 2, 'c': 1}\n",
      "{'b': 2}\n"
     ]
    }
   ],
   "source": [
    "d = {\"a\": 1, \"b\": 2, \"c\": 1}\n",
    "print(d)\n",
    "value = int(input(\"Enter a value: \"))\n",
    "a = []\n",
    "for k in d.keys():\n",
    "    if d[k] == value:\n",
    "        a.append(k)\n",
    "for k in a:     \n",
    "    del d[k]\n",
    "print(d)"
   ]
  },
  {
   "cell_type": "markdown",
   "metadata": {},
   "source": [
    "#### Find the key with the maximum value."
   ]
  },
  {
   "cell_type": "code",
   "execution_count": 51,
   "metadata": {},
   "outputs": [
    {
     "name": "stdout",
     "output_type": "stream",
     "text": [
      "['d'] 40\n"
     ]
    }
   ],
   "source": [
    "# Step 1: Find the maximum value\n",
    "# Step 2: Call the existing function for finding the corresponding keys.\n",
    "d = {\"a\": 10, \"b\": 20, \"c\": 30, \"d\": 40}\n",
    "maxvalue = 0\n",
    "for a in d.values():\n",
    "    if a > maxvalue:\n",
    "        maxvalue = a\n",
    "\n",
    "print(findkey(d, maxvalue), maxvalue)\n"
   ]
  },
  {
   "cell_type": "markdown",
   "metadata": {},
   "source": [
    "#### Take a paragraph of text and write a word counter. Ignore punctuations and letter cases"
   ]
  },
  {
   "cell_type": "code",
   "execution_count": 47,
   "metadata": {},
   "outputs": [
    {
     "name": "stdout",
     "output_type": "stream",
     "text": [
      "{'Hello!': 1, 'My': 2, 'name': 2, 'is': 2, 'shruti': 2, 'and': 2, 'im': 1, 'learning': 1, 'how': 1, 'to': 1, 'code': 1}\n"
     ]
    }
   ],
   "source": [
    "paragraph = \"Hello! My name is shruti and im learning how to code  My name is shruti and\"\n",
    "words = paragraph.split()\n",
    "wordcount = {}\n",
    "\n",
    "#The frequncy of the word repeating:\n",
    "for w in words:\n",
    "    if w in wordcount:\n",
    "        wordcount[w] = wordcount[w] + 1\n",
    "    else:\n",
    "        wordcount[w] = 1\n",
    "print(wordcount)"
   ]
  },
  {
   "cell_type": "markdown",
   "metadata": {},
   "source": [
    "#### For a given paragraph of text, create a dictionary where the keys are the lengths of words and the values are their frequencies."
   ]
  },
  {
   "cell_type": "code",
   "execution_count": 46,
   "metadata": {},
   "outputs": [
    {
     "name": "stdout",
     "output_type": "stream",
     "text": [
      "{6: 2, 2: 4, 4: 2, 3: 2, 8: 1}\n"
     ]
    }
   ],
   "source": [
    "paragraph = \"Hello! My name is shruti and im learning how to code\"\n",
    "words = paragraph.split()\n",
    "lengthcount = {}\n",
    "\n",
    "for w in words:\n",
    "    #The length:\n",
    "    length = len(w)\n",
    "    #The frequency:\n",
    "    if length in lengthcount:\n",
    "        lengthcount[length] =  lengthcount[length] + 1\n",
    "    else:\n",
    "        lengthcount[length] = 1\n",
    "print(lengthcount)"
   ]
  }
 ],
 "metadata": {
  "kernelspec": {
   "display_name": "Python 3",
   "language": "python",
   "name": "python3"
  },
  "language_info": {
   "codemirror_mode": {
    "name": "ipython",
    "version": 3
   },
   "file_extension": ".py",
   "mimetype": "text/x-python",
   "name": "python",
   "nbconvert_exporter": "python",
   "pygments_lexer": "ipython3",
   "version": "3.9.6"
  }
 },
 "nbformat": 4,
 "nbformat_minor": 2
}
