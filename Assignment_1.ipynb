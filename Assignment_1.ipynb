{
 "cells": [
  {
   "cell_type": "markdown",
   "metadata": {},
   "source": [
    "### 1. Check if a number is even or odd"
   ]
  },
  {
   "cell_type": "code",
   "execution_count": 28,
   "metadata": {},
   "outputs": [
    {
     "name": "stdout",
     "output_type": "stream",
     "text": [
      "Odd\n"
     ]
    }
   ],
   "source": [
    "a = int(input(\"enter a Number \"))\n",
    "if(a % 2 == 0):\n",
    "    print(\"Even\") \n",
    "else:\n",
    "    print(\"Odd\")"
   ]
  },
  {
   "cell_type": "markdown",
   "metadata": {},
   "source": [
    "### 2. Check if a number is positive or negative or zero"
   ]
  },
  {
   "cell_type": "code",
   "execution_count": 29,
   "metadata": {},
   "outputs": [
    {
     "name": "stdout",
     "output_type": "stream",
     "text": [
      "zero\n"
     ]
    }
   ],
   "source": [
    "a = int(input(\"enter a Number \"))\n",
    "if (a < 0):\n",
    "  print(\"negative\")\n",
    "elif (a > 0):\n",
    "  print(\"positive\")\n",
    "else:\n",
    "    print(\"zero\")  \n"
   ]
  },
  {
   "cell_type": "markdown",
   "metadata": {},
   "source": [
    "### 3. Check if a number is divisible by 3"
   ]
  },
  {
   "cell_type": "code",
   "execution_count": 4,
   "metadata": {},
   "outputs": [
    {
     "name": "stdout",
     "output_type": "stream",
     "text": [
      "not divisible\n"
     ]
    }
   ],
   "source": [
    "a = int(input(\"enter a Number \"))\n",
    "if (a % 3 == 0):\n",
    "  print(\"divisible\")\n",
    "else:\n",
    "  print(\"not divisible\")"
   ]
  },
  {
   "cell_type": "markdown",
   "metadata": {},
   "source": [
    "### 4. Check whether a number is divisible by 3 or 5"
   ]
  },
  {
   "cell_type": "code",
   "execution_count": 7,
   "metadata": {},
   "outputs": [
    {
     "name": "stdout",
     "output_type": "stream",
     "text": [
      "not divisible\n"
     ]
    }
   ],
   "source": [
    "a = int(input(\"enter a Number \"))\n",
    "if ((a % 3 == 0) or (a % 5 == 0)):\n",
    "  print(\"divisible\")\n",
    "else:\n",
    "  print(\"not divisible\")"
   ]
  },
  {
   "cell_type": "markdown",
   "metadata": {},
   "source": [
    "### 5. Check whether a number is divisible by 3 and 5"
   ]
  },
  {
   "cell_type": "code",
   "execution_count": 9,
   "metadata": {},
   "outputs": [
    {
     "name": "stdout",
     "output_type": "stream",
     "text": [
      "not divisible\n"
     ]
    }
   ],
   "source": [
    "a = int(input(\"enter a Number \"))\n",
    "if ((a % 3 == 0) and (a % 5 == 0)):\n",
    "  print(\"divisible\")\n",
    "else:\n",
    "  print(\"not divisible\")"
   ]
  },
  {
   "cell_type": "markdown",
   "metadata": {},
   "source": [
    "### 6. Check whether a number is divisible by 3 or 5 but not divisible by 4"
   ]
  },
  {
   "cell_type": "code",
   "execution_count": 12,
   "metadata": {},
   "outputs": [
    {
     "name": "stdout",
     "output_type": "stream",
     "text": [
      "divisible\n"
     ]
    }
   ],
   "source": [
    "a = int(input(\"enter a Number \"))\n",
    "if ((a % 3 == 0) or (a % 5 == 0) and (a % 4 != 0)):\n",
    "  print(\"divisible\")\n",
    "else:\n",
    "  print(\"not divisible\")"
   ]
  },
  {
   "cell_type": "markdown",
   "metadata": {},
   "source": [
    "### 7. Find the max and min of two numbers"
   ]
  },
  {
   "cell_type": "code",
   "execution_count": 50,
   "metadata": {},
   "outputs": [
    {
     "name": "stdout",
     "output_type": "stream",
     "text": [
      "min: 2\n",
      "max: 5\n"
     ]
    }
   ],
   "source": [
    "a = int(input(\"enter a Number \"))\n",
    "b = int(input(\"enter a Number \"))\n",
    "if (a < b):\n",
    "  print(\"min:\", a)\n",
    "  print(\"max:\", b)\n",
    "else:\n",
    "  print(\"They are equal\")"
   ]
  },
  {
   "cell_type": "markdown",
   "metadata": {},
   "source": [
    "### 8. Find the max and min of three numbers"
   ]
  },
  {
   "cell_type": "code",
   "execution_count": 60,
   "metadata": {},
   "outputs": [
    {
     "name": "stdout",
     "output_type": "stream",
     "text": [
      "The min is: 1\n",
      "The max is: 3\n"
     ]
    }
   ],
   "source": [
    "a = int(input(\"enter a Number \"))\n",
    "b = int(input(\"enter a Number \"))\n",
    "c = int(input(\"enter a Number \"))\n",
    "\n",
    "## find the minimum of the first two numbers and then compare it with the last number.\n",
    "if (a < b):\n",
    "  min_ab = a\n",
    "else:\n",
    "  min_ab = b\n",
    "\n",
    "if (min_ab < c ):\n",
    "  min_abc = min_ab\n",
    "else:\n",
    "  min_abc = c\n",
    "print(\"The min is:\", min_abc) \n",
    "\n",
    "## find the maximum of the first two numbers and then compare it with the last number.\n",
    "if (a < b):\n",
    "  max_ab = a\n",
    "else:\n",
    "  max_ab = b\n",
    "\n",
    "if (max_ab < c ):\n",
    "  max_abc = c\n",
    "else:\n",
    "  min_abc = max_ab\n",
    "print(\"The max is:\", max_abc)    \n"
   ]
  },
  {
   "cell_type": "markdown",
   "metadata": {},
   "source": [
    "### 9. Is a year a leap year?"
   ]
  },
  {
   "cell_type": "code",
   "execution_count": 35,
   "metadata": {},
   "outputs": [
    {
     "name": "stdout",
     "output_type": "stream",
     "text": [
      "not a leap year\n"
     ]
    }
   ],
   "source": [
    "a = int(input(\"enter a year \"))\n",
    "\n",
    "# A year is a leap year if it is:\n",
    "# 1. divisible by 4 \n",
    "# 2. Except if it is divisible by 100\n",
    "# 3. in which case it has to be divisible by 400\n",
    "\n",
    "# In my implimentation, it is easier to check when  a year is not a leap year:\n",
    "# 1. If it is not divisible by 4 its not a leap year.\n",
    "# 2. If it is divisible by 4 and not by 100 its a leap year, else cheack if its divisible by 400.\n",
    "\n",
    "if (a % 4 != 0):\n",
    "  print(\"not a leap year\")\n",
    "else:\n",
    "  if(a % 100 != 0):\n",
    "    print(\"leap year\")\n",
    "  else:\n",
    "    if(a % 400 == 0):\n",
    "      print(\"leap year\")\n",
    "    else:\n",
    "      print(\"not a leap year\")"
   ]
  },
  {
   "cell_type": "markdown",
   "metadata": {},
   "source": [
    "### 10. Print the number of days in a month"
   ]
  },
  {
   "cell_type": "code",
   "execution_count": 64,
   "metadata": {},
   "outputs": [
    {
     "name": "stdout",
     "output_type": "stream",
     "text": [
      "invalid month\n"
     ]
    }
   ],
   "source": [
    "a = int(input(\"enter a month \"))\n",
    "\n",
    "if((a == 1) or (a == 3) or (a == 5) or (a == 7) or (a == 8) or (a == 10) or (a == 12)):\n",
    "  print(31)\n",
    "\n",
    "elif(a == 2):\n",
    "  print(\"28, 29\")\n",
    "\n",
    "elif((a == 4) or (a == 6) or (a == 9) or (a == 11) ):\n",
    "  print(\"30\")\n",
    "\n",
    "else:\n",
    "  print(\"invalid month\")\n"
   ]
  },
  {
   "cell_type": "markdown",
   "metadata": {},
   "source": [
    "### 11. Print the number of days in a year"
   ]
  },
  {
   "cell_type": "code",
   "execution_count": 41,
   "metadata": {},
   "outputs": [
    {
     "name": "stdout",
     "output_type": "stream",
     "text": [
      "not a leap year: 366\n"
     ]
    }
   ],
   "source": [
    "a = int(input(\"enter a year \"))\n",
    "\n",
    "# I follow the same logic as before to determine if the year is a leap year.\n",
    "\n",
    "if (a % 4 != 0):\n",
    "  print(\"not a leap year:\", \"366\")\n",
    "else:\n",
    "  if(a % 100 != 0):\n",
    "    print(\"leap year:\", \"365\")\n",
    "  else:\n",
    "    if(a % 400 == 0):\n",
    "      print(\"leap year:\", \"365\")\n",
    "    else:\n",
    "      print(\"not a leap year:\", \"366\")\n"
   ]
  },
  {
   "cell_type": "markdown",
   "metadata": {},
   "source": [
    "### 12. Is a number within a given range?"
   ]
  },
  {
   "cell_type": "code",
   "execution_count": 25,
   "metadata": {},
   "outputs": [
    {
     "name": "stdout",
     "output_type": "stream",
     "text": [
      "out of range\n"
     ]
    }
   ],
   "source": [
    "s = int(input(\"start range\"))\n",
    "e = int(input(\"end range\"))\n",
    "x = int(input(\"enter a number\"))\n",
    "if (x > s):\n",
    "  if(x < e):\n",
    "    print(\"In range\")\n",
    "else:\n",
    "  print(\"out of range\")"
   ]
  },
  {
   "cell_type": "markdown",
   "metadata": {},
   "source": [
    "### 13. Convert seconds to HH:MM:SS"
   ]
  },
  {
   "cell_type": "code",
   "execution_count": 47,
   "metadata": {},
   "outputs": [
    {
     "name": "stdout",
     "output_type": "stream",
     "text": [
      "hours =  342\n",
      "mins =  56\n",
      "seconds =  7\n"
     ]
    }
   ],
   "source": [
    "t = int(input(\"Enter seconds: \"))\n",
    "\n",
    "#1. Divide the seconds by 3600 to get the hour.\n",
    "#2. The remainder is the time left in seconds. I have stored it in another variable a.\n",
    "#3. The variable is divided by 60 to give the minutes and the remainder after are the seconds left.\n",
    "\n",
    "h = t // 3600\n",
    "a = t % 3600\n",
    "m = a // 60\n",
    "s = a % 60\n",
    "print(\"hours = \", h)\n",
    "print(\"mins = \", m)\n",
    "print(\"seconds = \", s)"
   ]
  },
  {
   "cell_type": "markdown",
   "metadata": {},
   "source": [
    "### 14. Convert HH:MM:SS to seconds"
   ]
  },
  {
   "cell_type": "code",
   "execution_count": 48,
   "metadata": {},
   "outputs": [
    {
     "name": "stdout",
     "output_type": "stream",
     "text": [
      "seconds =  1234567\n"
     ]
    }
   ],
   "source": [
    "t1 = int(input(\"Enter hours: \"))\n",
    "t2 = int(input(\"Enter minutes: \"))\n",
    "t3 = int(input(\"Enter seconds: \"))\n",
    "\n",
    "h = t1 * 3600\n",
    "m = t2 * 60\n",
    "s = t3\n",
    "print(\"seconds = \", h + m + s)"
   ]
  }
 ],
 "metadata": {
  "kernelspec": {
   "display_name": "Python 3",
   "language": "python",
   "name": "python3"
  },
  "language_info": {
   "codemirror_mode": {
    "name": "ipython",
    "version": 3
   },
   "file_extension": ".py",
   "mimetype": "text/x-python",
   "name": "python",
   "nbconvert_exporter": "python",
   "pygments_lexer": "ipython3",
   "version": "3.9.6"
  }
 },
 "nbformat": 4,
 "nbformat_minor": 2
}
