{
 "cells": [
  {
   "cell_type": "markdown",
   "metadata": {},
   "source": [
    "### 1. Read a number from the user and a character. Print the character those many times\n",
    "\n"
   ]
  },
  {
   "cell_type": "code",
   "execution_count": 8,
   "metadata": {},
   "outputs": [
    {
     "name": "stdout",
     "output_type": "stream",
     "text": [
      "k k k k k k k "
     ]
    }
   ],
   "source": [
    "n = int(input(\"enter a number \"))\n",
    "c = input(\"enter a letter \")\n",
    "for i in range(n):\n",
    "    print(c,end= \" \")\n",
    "\n",
    "##the `end = ''` prints it on the same line"
   ]
  },
  {
   "cell_type": "markdown",
   "metadata": {},
   "source": [
    "### 2. Get a range (a, b) from the user. Print numbers from a to b and back down to a again"
   ]
  },
  {
   "cell_type": "code",
   "execution_count": 7,
   "metadata": {},
   "outputs": [
    {
     "name": "stdout",
     "output_type": "stream",
     "text": [
      "[1, 2, 3, 4, 5, 6]\n",
      "[6, 5, 4, 3, 2, 1]\n"
     ]
    }
   ],
   "source": [
    "a = int(input(\"start range \"))\n",
    "b = int(input(\"end range \"))\n",
    "c = [i for i in range(a, b)]\n",
    "print(c)\n",
    "c.reverse()\n",
    "print(c)"
   ]
  },
  {
   "cell_type": "markdown",
   "metadata": {},
   "source": [
    "### 3. Get a number from the user. \n",
    "\n",
    "#### a. Create a list containing 1 up to the number and print it\n",
    "\n"
   ]
  },
  {
   "cell_type": "code",
   "execution_count": 8,
   "metadata": {},
   "outputs": [
    {
     "name": "stdout",
     "output_type": "stream",
     "text": [
      "[1, 2, 3, 4, 5, 6, 7]\n"
     ]
    }
   ],
   "source": [
    "n = int(input(\"enter a number \"))\n",
    "l = [i + 1 for i in range(n)]\n",
    "print(l)"
   ]
  },
  {
   "cell_type": "markdown",
   "metadata": {},
   "source": [
    "#### b. Create a list containing the squares of these numbers\n"
   ]
  },
  {
   "cell_type": "code",
   "execution_count": 50,
   "metadata": {},
   "outputs": [
    {
     "name": "stdout",
     "output_type": "stream",
     "text": [
      "[1, 4, 9, 16, 25, 36, 49, 64, 81, 100, 121, 144, 169, 196, 225, 256, 289, 324, 361, 400]\n"
     ]
    }
   ],
   "source": [
    "l2 = [(i + 1)*(i + 1) for i in range(n)]\n",
    "#for i in range(n):\n",
    "   #l2.append((i + 1)*(i + 1))\n",
    "print(l2)"
   ]
  },
  {
   "cell_type": "markdown",
   "metadata": {},
   "source": [
    "#### c. Create a list containing the squares of odd numbers and half of the even numbers\n"
   ]
  },
  {
   "cell_type": "code",
   "execution_count": 63,
   "metadata": {},
   "outputs": [
    {
     "name": "stdout",
     "output_type": "stream",
     "text": [
      "[0]\n",
      "[0]\n",
      "[0, 1]\n",
      "[0, 1, 1]\n",
      "[0, 1, 1]\n",
      "[0, 1, 1, 9]\n",
      "[0, 1, 1, 9, 2]\n",
      "[0, 1, 1, 9, 2]\n",
      "[0, 1, 1, 9, 2, 25]\n",
      "[0, 1, 1, 9, 2, 25, 3]\n",
      "[0, 1, 1, 9, 2, 25, 3]\n",
      "[0, 1, 1, 9, 2, 25, 3, 49]\n",
      "[0, 1, 1, 9, 2, 25, 3, 49, 4]\n",
      "[0, 1, 1, 9, 2, 25, 3, 49, 4]\n",
      "[0, 1, 1, 9, 2, 25, 3, 49, 4, 81]\n",
      "[0, 1, 1, 9, 2, 25, 3, 49, 4, 81, 5]\n",
      "[0, 1, 1, 9, 2, 25, 3, 49, 4, 81, 5]\n",
      "[0, 1, 1, 9, 2, 25, 3, 49, 4, 81, 5, 121]\n",
      "[0, 1, 1, 9, 2, 25, 3, 49, 4, 81, 5, 121, 6]\n",
      "[0, 1, 1, 9, 2, 25, 3, 49, 4, 81, 5, 121, 6]\n",
      "[0, 1, 1, 9, 2, 25, 3, 49, 4, 81, 5, 121, 6, 169]\n",
      "[0, 1, 1, 9, 2, 25, 3, 49, 4, 81, 5, 121, 6, 169, 7]\n",
      "[0, 1, 1, 9, 2, 25, 3, 49, 4, 81, 5, 121, 6, 169, 7]\n",
      "[0, 1, 1, 9, 2, 25, 3, 49, 4, 81, 5, 121, 6, 169, 7, 225]\n",
      "[0, 1, 1, 9, 2, 25, 3, 49, 4, 81, 5, 121, 6, 169, 7, 225, 8]\n",
      "[0, 1, 1, 9, 2, 25, 3, 49, 4, 81, 5, 121, 6, 169, 7, 225, 8]\n",
      "[0, 1, 1, 9, 2, 25, 3, 49, 4, 81, 5, 121, 6, 169, 7, 225, 8, 289]\n",
      "[0, 1, 1, 9, 2, 25, 3, 49, 4, 81, 5, 121, 6, 169, 7, 225, 8, 289, 9]\n",
      "[0, 1, 1, 9, 2, 25, 3, 49, 4, 81, 5, 121, 6, 169, 7, 225, 8, 289, 9]\n",
      "[0, 1, 1, 9, 2, 25, 3, 49, 4, 81, 5, 121, 6, 169, 7, 225, 8, 289, 9, 361]\n"
     ]
    }
   ],
   "source": [
    "l3 = []\n",
    "for i in range(n):\n",
    "    if (i % 2 == 0):\n",
    "        l3.append(i//2)\n",
    "        print(l3)\n",
    "    else:\n",
    "        l3.append(i**2)\n",
    "    print(l3)\n",
    "\n",
    "#l = [0, 1, 2, 3, 4, 5, 6, 7, 8]\n",
    "#l = [0, 1, 1, 9, 2, 25, 3, 49, 4]"
   ]
  },
  {
   "cell_type": "code",
   "execution_count": 66,
   "metadata": {},
   "outputs": [
    {
     "name": "stdout",
     "output_type": "stream",
     "text": [
      "[0, 1, 1, 9, 2, 25, 3, 49, 4, 81, 5, 121, 6, 169, 7, 225, 8, 289, 9, 361]\n"
     ]
    }
   ],
   "source": [
    "l3 = [i//2 if(i % 2 == 0) else i**2 for i in range(n)]\n",
    "print(l3)"
   ]
  },
  {
   "cell_type": "markdown",
   "metadata": {},
   "source": [
    "### 4. Make a list of the first 100 integers, remove every fifth number\n",
    "\n",
    "If I start removing values from the beginning, the numbers after the removed value shift back. This changes the length of the list.\n",
    "\n",
    "If `j` is the number removed, and it exceeds the length of the list, the loop stops."
   ]
  },
  {
   "cell_type": "code",
   "execution_count": 15,
   "metadata": {},
   "outputs": [
    {
     "name": "stdout",
     "output_type": "stream",
     "text": [
      "[0, 1, 2, 3, 4, 5, 6, 7, 8, 9, 10, 11, 12, 13, 14, 15, 16, 17, 18, 19, 20, 21, 22, 23, 24, 25, 26, 27, 28, 29, 30, 31, 32, 33, 34, 35, 36, 37, 38, 39, 40, 41, 42, 43, 44, 45, 46, 47, 48, 49, 50, 51, 52, 53, 54, 55, 56, 57, 58, 59, 60, 61, 62, 63, 64, 65, 66, 67, 68, 69, 70, 71, 72, 73, 74, 75, 76, 77, 78, 79, 80, 81, 82, 83, 84, 85, 86, 87, 88, 89, 90, 91, 92, 93, 94, 95, 96, 97, 98, 99, 100]\n",
      "[1, 2, 3, 4, 5, 7, 8, 9, 10, 11, 13, 14, 15, 16, 17, 19, 20, 21, 22, 23, 25, 26, 27, 28, 29, 31, 32, 33, 34, 35, 37, 38, 39, 40, 41, 43, 44, 45, 46, 47, 49, 50, 51, 52, 53, 55, 56, 57, 58, 59, 61, 62, 63, 64, 65, 67, 68, 69, 70, 71, 73, 74, 75, 76, 77, 79, 80, 81, 82, 83, 85, 86, 87, 88, 89, 91, 92, 93, 94, 95, 97, 98, 99, 100]\n"
     ]
    }
   ],
   "source": [
    "a =[i for i in range(101)]\n",
    "print(a)\n",
    "for j in range(len(a)):\n",
    "    if(j % 5 == 0):\n",
    "        #print(j, len(a))\n",
    "        if(j >= len(a)):\n",
    "            break\n",
    "        a.pop(j)\n",
    "print(a)"
   ]
  },
  {
   "cell_type": "markdown",
   "metadata": {},
   "source": [
    "Here I use an offset to adjust for the values shifting. \n",
    "\n",
    "When an entry of a list is removed, all entries to the right are moved up by one, which means that the index that we would have removed next is now decremented.\n",
    "\n",
    "`offset` is incremented by 1 each time an entry is removed, and the index of the next entry to be removed is adjusted by this value of `offset`."
   ]
  },
  {
   "cell_type": "code",
   "execution_count": 16,
   "metadata": {},
   "outputs": [
    {
     "name": "stdout",
     "output_type": "stream",
     "text": [
      "[1, 2, 3, 4, 6, 7, 8, 9, 11, 12, 13, 14, 16, 17, 18, 19, 21, 22, 23, 24, 26, 27, 28, 29, 31, 32, 33, 34, 36, 37, 38, 39, 41, 42, 43, 44, 46, 47, 48, 49, 51, 52, 53, 54, 56, 57, 58, 59, 61, 62, 63, 64, 66, 67, 68, 69, 71, 72, 73, 74, 76, 77, 78, 79, 81, 82, 83, 84, 85, 86, 87, 88, 89, 90, 91, 92, 93, 94, 95, 96, 97, 98, 99, 100]\n"
     ]
    }
   ],
   "source": [
    "#1\n",
    "a =[i for i in range(101)]\n",
    "offset = 0\n",
    "#print(a)\n",
    "for j in range (len(a)):\n",
    "    if(j % 5 == 0):\n",
    "        #print(j, len(a))\n",
    "        if(j >= len(a)):\n",
    "            break\n",
    "        a.pop(j - offset)\n",
    "        offset = offset + 1      \n",
    "print(a)"
   ]
  },
  {
   "cell_type": "markdown",
   "metadata": {},
   "source": [
    "In the previous two versions, when I start removing the numbers fron the beginning, the index values of subsequent entries change.\n",
    "\n",
    "In this version, I iterate through the list form the end. When an entry is removed, the part of the list that is still to be processed does not change. Hence I do not need any offsets."
   ]
  },
  {
   "cell_type": "code",
   "execution_count": 49,
   "metadata": {},
   "outputs": [
    {
     "name": "stdout",
     "output_type": "stream",
     "text": [
      "[0, 1, 2, 3, 4, 6, 7, 8, 9, 11, 12, 13, 14, 16, 17, 18, 19, 21, 22, 23, 24, 26, 27, 28, 29, 31, 32, 33, 34, 36, 37, 38, 39, 41, 42, 43, 44, 46, 47, 48, 49, 51, 52, 53, 54, 56, 57, 58, 59, 61, 62, 63, 64, 66, 67, 68, 69, 71, 72, 73, 74, 76, 77, 78, 79, 81, 82, 83, 84, 86, 87, 88, 89, 91, 92, 93, 94, 96, 97, 98, 99]\n"
     ]
    }
   ],
   "source": [
    "#2\n",
    "a =[i for i in range(101)]\n",
    "#print(a)\n",
    "for j in range (len(a)-1, 0, -1):\n",
    "    #print(j)\n",
    "    if(j % 5 == 0):\n",
    "        #print(j, len(a))\n",
    "        if(j >= len(a)):\n",
    "            break\n",
    "        a.pop(j)\n",
    "print(a)"
   ]
  },
  {
   "cell_type": "markdown",
   "metadata": {},
   "source": [
    "### 5. From one of the lists above, how many entries are multiples of 3? Of 5? Of both? Of either? "
   ]
  },
  {
   "cell_type": "code",
   "execution_count": 18,
   "metadata": {},
   "outputs": [],
   "source": [
    "a =[i for i in range(101)]"
   ]
  },
  {
   "cell_type": "code",
   "execution_count": 65,
   "metadata": {},
   "outputs": [
    {
     "name": "stdout",
     "output_type": "stream",
     "text": [
      "34 numbers are divisible by 3\n",
      "21 numbers are divisible by 5\n",
      "7 numbers are divisible by 5 and 3\n",
      "48 numbers are divisible by 5 or 3\n"
     ]
    }
   ],
   "source": [
    "count = 0\n",
    "\n",
    "# multiple of 3\n",
    "for i in a:\n",
    "    if(i % 3 == 0):\n",
    "        count = count + 1\n",
    "print(count, \"numbers are divisible by 3\")\n",
    "\n",
    "# multiple of 5\n",
    "count = 0\n",
    "for i in a:\n",
    "    if(i % 5 == 0):\n",
    "        count = count + 1\n",
    "print(count, \"numbers are divisible by 5\")\n",
    "\n",
    "#of both\n",
    "count = 0\n",
    "for i in a:\n",
    "    if((i % 5 == 0) and (i % 3 == 0)) :\n",
    "        count = count + 1\n",
    "print(count, \"numbers are divisible by 5 and 3\")\n",
    "\n",
    "#of either\n",
    "count = 0\n",
    "for i in a:\n",
    "    if((i % 5 == 0) or (i % 3 == 0)) :\n",
    "        count = count + 1\n",
    "print(count, \"numbers are divisible by 5 or 3\")"
   ]
  },
  {
   "cell_type": "markdown",
   "metadata": {},
   "source": [
    "### 6. Take 10 numbers from the user, add them and print their sum."
   ]
  },
  {
   "cell_type": "markdown",
   "metadata": {},
   "source": [
    "I have used two methods to find the sum. The first one iterates over the indices and the second one iterates over the values."
   ]
  },
  {
   "cell_type": "code",
   "execution_count": 52,
   "metadata": {},
   "outputs": [
    {
     "name": "stdout",
     "output_type": "stream",
     "text": [
      "53\n",
      "53\n"
     ]
    }
   ],
   "source": [
    "a = [int(input()) for i in range(0, 10)]\n",
    "sum = 0\n",
    "b = 0\n",
    "\n",
    "#for i in range(0, 10):\n",
    "    #a.append(int(input()))\n",
    "    #a.append(i)\n",
    "i = 0\n",
    "while i < len(a):\n",
    "    sum = sum + a[i]\n",
    "    i = i + 1\n",
    "print(sum)\n",
    "\n",
    "sum = 0\n",
    "for i in a:\n",
    "    sum = sum + i\n",
    "print(sum)\n"
   ]
  },
  {
   "cell_type": "markdown",
   "metadata": {},
   "source": [
    "### 7. Print the first 10 powers of 2."
   ]
  },
  {
   "cell_type": "code",
   "execution_count": 6,
   "metadata": {},
   "outputs": [
    {
     "name": "stdout",
     "output_type": "stream",
     "text": [
      "[1, 2, 4, 8, 16, 32, 64, 128, 256, 512, 1024]\n"
     ]
    }
   ],
   "source": [
    "powers = [2**p for p in range(11)]\n",
    "print(powers)"
   ]
  },
  {
   "cell_type": "markdown",
   "metadata": {},
   "source": [
    "### 8. Write a program to calculate and print n!\n",
    "\n",
    "The factorial of a number is defined as $n! = n (n-1)!$, and $0! = 1$. That is, a number is multiplied by all the numbers before until it reaches 1.\n",
    "\n",
    "In my implementation, I start from 1 and keep calculating the factorial till n."
   ]
  },
  {
   "cell_type": "code",
   "execution_count": 105,
   "metadata": {},
   "outputs": [
    {
     "name": "stdout",
     "output_type": "stream",
     "text": [
      "120\n"
     ]
    }
   ],
   "source": [
    "n = int(input())\n",
    "factorial = 1\n",
    "if(n == 0):\n",
    "    print(\"no factorial\")\n",
    "else:\n",
    "    for i in range(1, n + 1):\n",
    "        factorial = factorial * i\n",
    "    print(factorial)"
   ]
  },
  {
   "cell_type": "markdown",
   "metadata": {},
   "source": [
    "### 9. The nth fibonacci number is $Fn = F(n-1) + F(n-2)$. Note that the parenthesis here are not indicative of function calls! So:\n",
    "\tF0 = 1 (defn)\n",
    "\tF1 = 1 (defn)\n",
    "\tF2 = F1 + F0 = 2\n",
    "\tF3 = F2 + F1 = 2 + 1 = 3\n",
    "\tF4 = F3 + F2 = 3 + 2 = 5\n",
    "… and so on. Calculate Fn\n"
   ]
  },
  {
   "cell_type": "markdown",
   "metadata": {},
   "source": [
    "I use a list to store all the Fibonacci numbers, so that f[i] = $F_i$.\n",
    "\n",
    "I initialize the values for the first two entries and calculate the remaining entries in a loop."
   ]
  },
  {
   "cell_type": "code",
   "execution_count": 37,
   "metadata": {},
   "outputs": [
    {
     "name": "stdout",
     "output_type": "stream",
     "text": [
      "[0, 1, 1, 2, 3, 5, 8, 13, 21, 34, 55, 89, 144, 233, 377, 610, 987, 1597, 2584, 4181, 6765]\n"
     ]
    }
   ],
   "source": [
    "#1\n",
    "n = 20\n",
    "fib = [0, 1]\n",
    "for i in range(2, n+1): \n",
    "    fib.append(fib[i - 1] + fib[i - 2])\n",
    "print(fib)\n"
   ]
  },
  {
   "cell_type": "markdown",
   "metadata": {},
   "source": [
    "This is another way without using lists. I use 3 variables: two to keep track of the previous two fibonacci numbers, and one for the value being calculated currently. When I have calculated the current value, I update the previous two values to the latest two, so that we are ready for the next computation. "
   ]
  },
  {
   "cell_type": "code",
   "execution_count": 42,
   "metadata": {},
   "outputs": [
    {
     "name": "stdout",
     "output_type": "stream",
     "text": [
      "6765\n"
     ]
    }
   ],
   "source": [
    "#2\n",
    "n = 22\n",
    "fnminus1 = 0\n",
    "fnminus2 = 1\n",
    "for i in range(n - 2):\n",
    "    fn = fnminus1 + fnminus2\n",
    "    fnminus2 = fnminus1\n",
    "    fnminus1 = fn\n",
    "print(fn)"
   ]
  },
  {
   "cell_type": "markdown",
   "metadata": {},
   "source": [
    "### 10. Make a half-pyramid:"
   ]
  },
  {
   "cell_type": "markdown",
   "metadata": {},
   "source": [
    "I need to the print the character as many times the number of the row. I used a doubly nested loop to do this."
   ]
  },
  {
   "cell_type": "code",
   "execution_count": 29,
   "metadata": {},
   "outputs": [
    {
     "name": "stdout",
     "output_type": "stream",
     "text": [
      "\n",
      "*\n",
      "**\n",
      "***\n",
      "****\n",
      "*****\n"
     ]
    }
   ],
   "source": [
    "n = int(input(\"enter a number \"))\n",
    "c = input(\"enter a character \")\n",
    "pyd = []\n",
    "for i in range(n):\n",
    "    for j in range(i):\n",
    "        print(c, end = \"\")\n",
    "    print()\n"
   ]
  }
 ],
 "metadata": {
  "kernelspec": {
   "display_name": "Python 3",
   "language": "python",
   "name": "python3"
  },
  "language_info": {
   "codemirror_mode": {
    "name": "ipython",
    "version": 3
   },
   "file_extension": ".py",
   "mimetype": "text/x-python",
   "name": "python",
   "nbconvert_exporter": "python",
   "pygments_lexer": "ipython3",
   "version": "3.9.6"
  }
 },
 "nbformat": 4,
 "nbformat_minor": 2
}
