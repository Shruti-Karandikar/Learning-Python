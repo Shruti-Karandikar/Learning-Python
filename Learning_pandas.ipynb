{
 "cells": [
  {
   "cell_type": "code",
   "execution_count": 3,
   "id": "d25acd46-111f-402f-a2fe-7f71855febac",
   "metadata": {},
   "outputs": [],
   "source": [
    "import pandas as pd\n",
    "import numpy as np\n",
    "import matplotlib.pyplot as plt"
   ]
  },
  {
   "cell_type": "code",
   "execution_count": 30,
   "id": "641aabe7-e0bd-4351-ac9a-ec9d381df7b4",
   "metadata": {},
   "outputs": [
    {
     "data": {
      "text/plain": [
       "-6    36\n",
       "-5    25\n",
       "-4    16\n",
       "-3     9\n",
       "-2     4\n",
       "-1     1\n",
       " 0     0\n",
       " 1     1\n",
       " 2     4\n",
       " 3     9\n",
       " 4    16\n",
       " 5    25\n",
       "dtype: int64"
      ]
     },
     "execution_count": 30,
     "metadata": {},
     "output_type": "execute_result"
    }
   ],
   "source": [
    "dict = {i: i * i for i in range(-6, 6)}\n",
    "s = pd.Series(dict)\n",
    "s"
   ]
  },
  {
   "cell_type": "code",
   "execution_count": 9,
   "id": "6f8a4b01-9cc1-4008-9ab7-a30aa55b3803",
   "metadata": {},
   "outputs": [
    {
     "name": "stdout",
     "output_type": "stream",
     "text": [
      "<class 'pandas.core.series.Series'>\n"
     ]
    }
   ],
   "source": [
    "print(type(s))\n",
    "#dir(s)"
   ]
  },
  {
   "cell_type": "code",
   "execution_count": 12,
   "id": "f92d2ecd-3aa5-4d74-bd00-7a7092f90e9c",
   "metadata": {},
   "outputs": [
    {
     "name": "stdout",
     "output_type": "stream",
     "text": [
      "[36 25 16  9  4  1  0  1  4  9 16 25]\n",
      "Index([-6, -5, -4, -3, -2, -1, 0, 1, 2, 3, 4, 5], dtype='int64')\n"
     ]
    }
   ],
   "source": [
    "print(s.values)\n",
    "print(s.index)"
   ]
  },
  {
   "cell_type": "code",
   "execution_count": 17,
   "id": "0ae27588-c0fa-4f20-a08b-ff9922ce1392",
   "metadata": {},
   "outputs": [
    {
     "data": {
      "text/plain": [
       "0    0\n",
       "1    1\n",
       "2    2\n",
       "3    3\n",
       "4    4\n",
       "5    5\n",
       "6    6\n",
       "7    7\n",
       "8    8\n",
       "9    9\n",
       "dtype: int64"
      ]
     },
     "execution_count": 17,
     "metadata": {},
     "output_type": "execute_result"
    }
   ],
   "source": [
    "s = pd.Series([i for i in range(10)])\n",
    "s"
   ]
  },
  {
   "cell_type": "code",
   "execution_count": 18,
   "id": "62dc0c04-0aa0-467a-8d14-b134d9d777d8",
   "metadata": {},
   "outputs": [
    {
     "data": {
      "text/plain": [
       "RangeIndex(start=0, stop=10, step=1)"
      ]
     },
     "execution_count": 18,
     "metadata": {},
     "output_type": "execute_result"
    }
   ],
   "source": [
    "s.index"
   ]
  },
  {
   "cell_type": "code",
   "execution_count": 21,
   "id": "62b54492-f105-4aa6-8ed6-89293b648906",
   "metadata": {},
   "outputs": [
    {
     "data": {
      "text/plain": [
       "a    1\n",
       "b    3\n",
       "c    5\n",
       "d    7\n",
       "dtype: int64"
      ]
     },
     "execution_count": 21,
     "metadata": {},
     "output_type": "execute_result"
    }
   ],
   "source": [
    "s = pd.Series([1,3,5,7], index = ['a', 'b', 'c', 'd'])\n",
    "s"
   ]
  },
  {
   "cell_type": "code",
   "execution_count": 23,
   "id": "1db97b44-7325-48b8-8ae0-3c6beababf02",
   "metadata": {},
   "outputs": [
    {
     "data": {
      "text/plain": [
       "3"
      ]
     },
     "execution_count": 23,
     "metadata": {},
     "output_type": "execute_result"
    }
   ],
   "source": [
    "s['b']"
   ]
  },
  {
   "cell_type": "code",
   "execution_count": 24,
   "id": "e5ccc48d-a294-4f2a-91f0-d45fd9870b77",
   "metadata": {},
   "outputs": [
    {
     "data": {
      "text/plain": [
       "b    3\n",
       "c    5\n",
       "d    7\n",
       "dtype: int64"
      ]
     },
     "execution_count": 24,
     "metadata": {},
     "output_type": "execute_result"
    }
   ],
   "source": [
    "s['b': 'd']"
   ]
  },
  {
   "cell_type": "code",
   "execution_count": 26,
   "id": "c1b5add8-7b8a-455c-b7cd-98278956e614",
   "metadata": {},
   "outputs": [
    {
     "data": {
      "text/plain": [
       "-6    False\n",
       "-5    False\n",
       "-4    False\n",
       "-3    False\n",
       "-2     True\n",
       "-1     True\n",
       " 0     True\n",
       " 1     True\n",
       " 2     True\n",
       " 3    False\n",
       " 4    False\n",
       " 5    False\n",
       "dtype: bool"
      ]
     },
     "execution_count": 26,
     "metadata": {},
     "output_type": "execute_result"
    }
   ],
   "source": [
    "s<5"
   ]
  },
  {
   "cell_type": "code",
   "execution_count": 27,
   "id": "cb935028-a094-4d8f-ad81-ca528e5524eb",
   "metadata": {},
   "outputs": [
    {
     "data": {
      "text/plain": [
       "-2    4\n",
       "-1    1\n",
       " 0    0\n",
       " 1    1\n",
       " 2    4\n",
       "dtype: int64"
      ]
     },
     "execution_count": 27,
     "metadata": {},
     "output_type": "execute_result"
    }
   ],
   "source": [
    "s[s<5]"
   ]
  },
  {
   "cell_type": "code",
   "execution_count": 28,
   "id": "8f31f28a-01a8-4d1e-8b2c-e876c2986ea0",
   "metadata": {},
   "outputs": [
    {
     "data": {
      "text/plain": [
       "-6    36\n",
       "-4    16\n",
       "-2     4\n",
       " 0     0\n",
       " 2     4\n",
       " 4    16\n",
       "dtype: int64"
      ]
     },
     "execution_count": 28,
     "metadata": {},
     "output_type": "execute_result"
    }
   ],
   "source": [
    "s[s%2 == 0] #masking"
   ]
  },
  {
   "cell_type": "code",
   "execution_count": 39,
   "id": "09dd8931-21d0-454b-aaa4-4ecf989ec092",
   "metadata": {},
   "outputs": [],
   "source": [
    "dict2 = {i: i ** 3 for i in range(-6, 6)}"
   ]
  },
  {
   "cell_type": "code",
   "execution_count": 40,
   "id": "d2b882bc-9a0f-445e-9592-16edb942321d",
   "metadata": {},
   "outputs": [],
   "source": [
    "df = pd.DataFrame({'squares' : dict, 'cube' : dict2})"
   ]
  },
  {
   "cell_type": "code",
   "execution_count": 38,
   "id": "27c4e822-62bc-4dd2-8503-00c18211fbb0",
   "metadata": {},
   "outputs": [
    {
     "name": "stdout",
     "output_type": "stream",
     "text": [
      "    squares  cube\n",
      "-6     36.0  -216\n",
      "-5     25.0  -125\n",
      "-4     16.0   -64\n",
      "-3      9.0   -27\n",
      "-2      4.0    -8\n",
      "-1      1.0    -1\n",
      " 0      0.0     0\n",
      " 1      1.0     1\n",
      " 2      4.0     8\n",
      " 3      9.0    27\n",
      " 4     16.0    64\n",
      " 5     25.0   125\n",
      " 6      NaN   216\n",
      " 7      NaN   343\n",
      " 8      NaN   512\n",
      " 9      NaN   729\n"
     ]
    }
   ],
   "source": [
    "print(df)"
   ]
  },
  {
   "cell_type": "code",
   "execution_count": 42,
   "id": "d6b17a83-6111-4dad-8a2e-a96acd3191e6",
   "metadata": {},
   "outputs": [
    {
     "name": "stdout",
     "output_type": "stream",
     "text": [
      "-6    36\n",
      "-5    25\n",
      "-4    16\n",
      "-3     9\n",
      "-2     4\n",
      "-1     1\n",
      " 0     0\n",
      " 1     1\n",
      " 2     4\n",
      " 3     9\n",
      " 4    16\n",
      " 5    25\n",
      "Name: squares, dtype: int64\n"
     ]
    }
   ],
   "source": [
    "print(df.squares)"
   ]
  },
  {
   "cell_type": "code",
   "execution_count": 45,
   "id": "cbaa54c0-3b9e-4854-a549-e88874ec8243",
   "metadata": {},
   "outputs": [
    {
     "data": {
      "text/plain": [
       "Index(['squares', 'cube'], dtype='object')"
      ]
     },
     "execution_count": 45,
     "metadata": {},
     "output_type": "execute_result"
    }
   ],
   "source": [
    "df.columns"
   ]
  },
  {
   "cell_type": "code",
   "execution_count": 50,
   "id": "b6cd06b4-d377-4083-9073-e66f0e32732d",
   "metadata": {},
   "outputs": [
    {
     "name": "stdout",
     "output_type": "stream",
     "text": [
      "<class 'numpy.ndarray'>\n"
     ]
    },
    {
     "data": {
      "text/plain": [
       "2"
      ]
     },
     "execution_count": 50,
     "metadata": {},
     "output_type": "execute_result"
    }
   ],
   "source": [
    "print(type(df.values))\n",
    "df.shape\n",
    "df.ndim"
   ]
  },
  {
   "cell_type": "code",
   "execution_count": 51,
   "id": "592bc70a-f4de-43f1-af29-11ed87998e07",
   "metadata": {},
   "outputs": [
    {
     "data": {
      "text/html": [
       "<div>\n",
       "<style scoped>\n",
       "    .dataframe tbody tr th:only-of-type {\n",
       "        vertical-align: middle;\n",
       "    }\n",
       "\n",
       "    .dataframe tbody tr th {\n",
       "        vertical-align: top;\n",
       "    }\n",
       "\n",
       "    .dataframe thead th {\n",
       "        text-align: right;\n",
       "    }\n",
       "</style>\n",
       "<table border=\"1\" class=\"dataframe\">\n",
       "  <thead>\n",
       "    <tr style=\"text-align: right;\">\n",
       "      <th></th>\n",
       "      <th>squares</th>\n",
       "      <th>cube</th>\n",
       "    </tr>\n",
       "  </thead>\n",
       "  <tbody>\n",
       "    <tr>\n",
       "      <th>count</th>\n",
       "      <td>12.000000</td>\n",
       "      <td>12.000000</td>\n",
       "    </tr>\n",
       "    <tr>\n",
       "      <th>mean</th>\n",
       "      <td>12.166667</td>\n",
       "      <td>-18.000000</td>\n",
       "    </tr>\n",
       "    <tr>\n",
       "      <th>std</th>\n",
       "      <td>11.590226</td>\n",
       "      <td>87.281155</td>\n",
       "    </tr>\n",
       "    <tr>\n",
       "      <th>min</th>\n",
       "      <td>0.000000</td>\n",
       "      <td>-216.000000</td>\n",
       "    </tr>\n",
       "    <tr>\n",
       "      <th>25%</th>\n",
       "      <td>3.250000</td>\n",
       "      <td>-36.250000</td>\n",
       "    </tr>\n",
       "    <tr>\n",
       "      <th>50%</th>\n",
       "      <td>9.000000</td>\n",
       "      <td>-0.500000</td>\n",
       "    </tr>\n",
       "    <tr>\n",
       "      <th>75%</th>\n",
       "      <td>18.250000</td>\n",
       "      <td>12.750000</td>\n",
       "    </tr>\n",
       "    <tr>\n",
       "      <th>max</th>\n",
       "      <td>36.000000</td>\n",
       "      <td>125.000000</td>\n",
       "    </tr>\n",
       "  </tbody>\n",
       "</table>\n",
       "</div>"
      ],
      "text/plain": [
       "         squares        cube\n",
       "count  12.000000   12.000000\n",
       "mean   12.166667  -18.000000\n",
       "std    11.590226   87.281155\n",
       "min     0.000000 -216.000000\n",
       "25%     3.250000  -36.250000\n",
       "50%     9.000000   -0.500000\n",
       "75%    18.250000   12.750000\n",
       "max    36.000000  125.000000"
      ]
     },
     "execution_count": 51,
     "metadata": {},
     "output_type": "execute_result"
    }
   ],
   "source": [
    "df.describe() "
   ]
  }
 ],
 "metadata": {
  "kernelspec": {
   "display_name": "Python 3 (ipykernel)",
   "language": "python",
   "name": "python3"
  },
  "language_info": {
   "codemirror_mode": {
    "name": "ipython",
    "version": 3
   },
   "file_extension": ".py",
   "mimetype": "text/x-python",
   "name": "python",
   "nbconvert_exporter": "python",
   "pygments_lexer": "ipython3",
   "version": "3.12.8"
  }
 },
 "nbformat": 4,
 "nbformat_minor": 5
}
