{
 "cells": [
  {
   "cell_type": "code",
   "execution_count": 1,
   "id": "2f2563c2-e02e-4b98-a6bd-7fe7e56f3170",
   "metadata": {
    "tags": []
   },
   "outputs": [],
   "source": [
    "from turtle import *"
   ]
  },
  {
   "cell_type": "code",
   "execution_count": 1,
   "id": "274d06f5-a3b6-4179-9e6e-3e5e862dd250",
   "metadata": {
    "tags": []
   },
   "outputs": [],
   "source": [
    "## This is to see if it works and how it works\n",
    "forward(100)\n",
    "shape(\"circle\")\n",
    "forward(100)\n",
    "shape(\"turtle\")\n",
    "right(45)\n",
    "forward(100)\n",
    "done()"
   ]
  },
  {
   "cell_type": "code",
   "execution_count": 3,
   "id": "744af87b-3086-4fc3-91c1-4b5a0a336128",
   "metadata": {
    "tags": []
   },
   "outputs": [
    {
     "name": "stderr",
     "output_type": "stream",
     "text": [
      "2025-01-07 09:57:16.596 python[37415:28800710] +[IMKClient subclass]: chose IMKClient_Modern\n",
      "2025-01-07 09:57:16.596 python[37415:28800710] +[IMKInputSession subclass]: chose IMKInputSession_Modern\n"
     ]
    }
   ],
   "source": [
    "#How to draw a Square\n",
    "n = 4\n",
    "for i in range(n):\n",
    "    right(360/n)\n",
    "    forward(50)\n",
    "    circle(2)\n",
    "done()"
   ]
  },
  {
   "cell_type": "code",
   "execution_count": 3,
   "id": "724133be-a1d5-440c-9fbe-355d225994ff",
   "metadata": {
    "tags": []
   },
   "outputs": [
    {
     "name": "stderr",
     "output_type": "stream",
     "text": [
      "2025-01-07 09:58:17.541 python[37492:28803627] +[IMKClient subclass]: chose IMKClient_Modern\n",
      "2025-01-07 09:58:17.541 python[37492:28803627] +[IMKInputSession subclass]: chose IMKInputSession_Modern\n"
     ]
    }
   ],
   "source": [
    "#How to draw a circle- I am drawing a pentagon that is rotating to form a cirle\n",
    "n = 5\n",
    "rot = 60\n",
    "for d in range(rot):\n",
    "    right(360/rot)\n",
    "    for i in range(n):\n",
    "        right(360/n)\n",
    "        forward(50)\n",
    "done()"
   ]
  },
  {
   "cell_type": "code",
   "execution_count": 1,
   "id": "f4b36d7e-0957-42fb-90a1-b849a3bd124a",
   "metadata": {
    "tags": []
   },
   "outputs": [],
   "source": [
    "# How to fill color inside the circle\n",
    "import turtle \n",
    "pen = turtle.Turtle()  \n",
    "pen.speed(0) \n",
    "pen.fillcolor(\"red\") \n",
    "pen.begin_fill() \n",
    "pen.circle(100) \n",
    "pen.end_fill() \n",
    "turtle.done() "
   ]
  },
  {
   "cell_type": "code",
   "execution_count": 4,
   "id": "5eada9f2-241c-4379-aae2-69ad61165208",
   "metadata": {
    "tags": []
   },
   "outputs": [
    {
     "name": "stderr",
     "output_type": "stream",
     "text": [
      "2025-01-07 10:00:46.026 python[37509:28805433] +[IMKClient subclass]: chose IMKClient_Modern\n",
      "2025-01-07 10:00:46.026 python[37509:28805433] +[IMKInputSession subclass]: chose IMKInputSession_Modern\n"
     ]
    }
   ],
   "source": [
    "#How to draw a spiral- After each pentagon I am increasing the length of the sides \n",
    "n = 5\n",
    "rot = 60\n",
    "l = 50\n",
    "for d in range(rot):\n",
    "    right(360/rot)\n",
    "    l = l + 5\n",
    "    for i in range(n):\n",
    "        right(360/n)\n",
    "        forward(l)\n",
    "done()"
   ]
  },
  {
   "cell_type": "code",
   "execution_count": 1,
   "id": "7990bbf0-c99a-4bc9-9340-0142da0a37c5",
   "metadata": {
    "tags": []
   },
   "outputs": [
    {
     "name": "stdout",
     "output_type": "stream",
     "text": [
      "How many points do you want?  11\n"
     ]
    },
    {
     "name": "stderr",
     "output_type": "stream",
     "text": [
      "2025-01-07 10:13:17.541 python[37644:28815366] +[IMKClient subclass]: chose IMKClient_Modern\n",
      "2025-01-07 10:13:17.541 python[37644:28815366] +[IMKInputSession subclass]: chose IMKInputSession_Modern\n"
     ]
    }
   ],
   "source": [
    "# This is a star. I give it the number of vertices\n",
    "import turtle\n",
    "\n",
    "t = turtle.Turtle()\n",
    "t.color(\"yellow\")\n",
    "t.pensize(5)\n",
    "\n",
    "n = int(input(\"How many points do you want? \"))\n",
    "\n",
    "for i in range(n):\n",
    "    t.forward(500)\n",
    "    t.right(180 - 360/n)\n",
    "t.goto(0, 0)\n",
    "turtle.done()"
   ]
  },
  {
   "cell_type": "code",
   "execution_count": 1,
   "id": "3faf598a-88ae-453b-9630-cdd8728188f2",
   "metadata": {
    "tags": []
   },
   "outputs": [],
   "source": [
    "#Spirograph- It is made by rotating shapes. I tried using different colors.\n",
    "import turtle as tt\n",
    "\n",
    "tt.bgcolor('black')\n",
    "tt.pensize(2)\n",
    "tt.speed(10)\n",
    "\n",
    "for i in range(6):\n",
    "    for color in ('red', 'magenta', 'blue', \n",
    "                  'cyan', 'green', 'white',\n",
    "                  'yellow'):\n",
    "        tt.color(color)\n",
    "        tt.circle(100)\n",
    "        tt.left(10)\n",
    "    tt.hideturtle()"
   ]
  },
  {
   "cell_type": "code",
   "execution_count": 1,
   "id": "2d55c8f2-3180-4733-a2e1-24856c043dd9",
   "metadata": {
    "tags": []
   },
   "outputs": [],
   "source": [
    "# Rainbow Benzene \n",
    "import turtle \n",
    "colors = ['red', 'purple', 'blue', 'green', 'orange', 'yellow'] \n",
    "t = turtle.Pen() \n",
    "turtle.bgcolor('black') \n",
    "for x in range(360): \n",
    "    t.pencolor(colors[x%6]) \n",
    "    t.width(x//100 + 1) \n",
    "    t.forward(x) \n",
    "    t.left(59)"
   ]
  }
 ],
 "metadata": {
  "kernelspec": {
   "display_name": "Python 3 (ipykernel)",
   "language": "python",
   "name": "python3"
  },
  "language_info": {
   "codemirror_mode": {
    "name": "ipython",
    "version": 3
   },
   "file_extension": ".py",
   "mimetype": "text/x-python",
   "name": "python",
   "nbconvert_exporter": "python",
   "pygments_lexer": "ipython3",
   "version": "3.11.5"
  }
 },
 "nbformat": 4,
 "nbformat_minor": 5
}
