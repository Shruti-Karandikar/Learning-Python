{
 "cells": [
  {
   "cell_type": "markdown",
   "metadata": {},
   "source": [
    "### 1. Create a list containing \n"
   ]
  },
  {
   "cell_type": "markdown",
   "metadata": {},
   "source": [
    "#### a. The numbers 0.1, 0.2, 0.3 … upto 1.0\n"
   ]
  },
  {
   "cell_type": "code",
   "execution_count": 79,
   "metadata": {},
   "outputs": [
    {
     "name": "stdout",
     "output_type": "stream",
     "text": [
      "[0.1, 0.2, 0.3, 0.4, 0.5, 0.6, 0.7, 0.8, 0.9, 1.0]\n"
     ]
    }
   ],
   "source": [
    "l = [i/100 for i in range(10, 110, 10)]\n",
    "print(l)"
   ]
  },
  {
   "cell_type": "markdown",
   "metadata": {},
   "source": [
    "#### b. The numbers 0.01, 0.02, 0.03 … upto 1.0"
   ]
  },
  {
   "cell_type": "code",
   "execution_count": 80,
   "metadata": {},
   "outputs": [
    {
     "name": "stdout",
     "output_type": "stream",
     "text": [
      "[0.01, 0.02, 0.03, 0.04, 0.05, 0.06, 0.07, 0.08, 0.09]\n"
     ]
    }
   ],
   "source": [
    "l2 = [i/1000 for i in range(10, 100, 10)]\n",
    "print(l2)"
   ]
  },
  {
   "cell_type": "markdown",
   "metadata": {},
   "source": [
    "### 2. Create a list of sin and cos of numbers from 0.1 … 1.0 and 0.01 … 1.0\n"
   ]
  },
  {
   "cell_type": "code",
   "execution_count": 54,
   "metadata": {},
   "outputs": [],
   "source": [
    "import math"
   ]
  },
  {
   "cell_type": "code",
   "execution_count": 88,
   "metadata": {},
   "outputs": [
    {
     "name": "stdout",
     "output_type": "stream",
     "text": [
      "[0.09983341664682815, 0.19866933079506122, 0.29552020666133955, 0.3894183423086505, 0.479425538604203, 0.5646424733950354, 0.644217687237691, 0.7173560908995228, 0.7833269096274834, 0.8414709848078965]\n",
      "[0.9950041652780258, 0.9800665778412416, 0.955336489125606, 0.9210609940028851, 0.8775825618903728, 0.8253356149096783, 0.7648421872844885, 0.6967067093471654, 0.6216099682706644, 0.5403023058681398]\n"
     ]
    }
   ],
   "source": [
    "# sin values form 0.1 to 1.0\n",
    "l_sin1 = [math.sin(i/100) for i in range(10, 110, 10)]\n",
    "print(l_sin) \n",
    "\n",
    "# cos values form 0.1 to 1.0\n",
    "l_cos1 = [math.cos(i/100) for i in range(10, 110, 10)]\n",
    "print(l_cos) "
   ]
  },
  {
   "cell_type": "code",
   "execution_count": 87,
   "metadata": {},
   "outputs": [
    {
     "name": "stdout",
     "output_type": "stream",
     "text": [
      "[0.09983341664682815, 0.19866933079506122, 0.29552020666133955, 0.3894183423086505, 0.479425538604203, 0.5646424733950354, 0.644217687237691, 0.7173560908995228, 0.7833269096274834, 0.8414709848078965]\n",
      "[0.9950041652780258, 0.9800665778412416, 0.955336489125606, 0.9210609940028851, 0.8775825618903728, 0.8253356149096783, 0.7648421872844885, 0.6967067093471654, 0.6216099682706644, 0.5403023058681398]\n"
     ]
    }
   ],
   "source": [
    "# sin values form 0.01 to 1.0\n",
    "l_sin2 = [math.sin(i/1000) for i in range(10, 100, 10)]\n",
    "print(l_sin) \n",
    "\n",
    "# cos values form 0.01 to 1.0\n",
    "l_cos2 = [math.cos(i/1000) for i in range(10, 100, 10)]\n",
    "print(l_cos) "
   ]
  },
  {
   "cell_type": "markdown",
   "metadata": {},
   "source": [
    "### 3. tan() is easily calculated using tan(x) = sin(x) / cos(x). Create a list of tan() for numbers from 0.1 … 1.0 and 0.01 … 1.0"
   ]
  },
  {
   "cell_type": "code",
   "execution_count": 108,
   "metadata": {},
   "outputs": [
    {
     "name": "stdout",
     "output_type": "stream",
     "text": [
      "[0.10033467208545054, 0.20271003550867248, 0.3093362496096232, 0.4227932187381618, 0.5463024898437905, 0.6841368083416923, 0.8422883804630793, 1.0296385570503641, 1.260158217550339, 1.557407724654902]\n",
      "[0.09983341664682815, 0.19866933079506122, 0.29552020666133955, 0.3894183423086505, 0.479425538604203, 0.5646424733950354, 0.644217687237691, 0.7173560908995228, 0.7833269096274834, 0.8414709848078965]\n"
     ]
    }
   ],
   "source": [
    "# tan values form 0.1 to 1.0\n",
    "l_tan1 = [math.tan(i/100) for i in range(10, 110, 10)]\n",
    "print(l_tan) \n",
    "# tan values form 0.01 to 1.0\n",
    "l_tan2 = [math.tan(i/1000) for i in range(10, 100, 10)]\n",
    "print(l_sin)"
   ]
  },
  {
   "cell_type": "code",
   "execution_count": 122,
   "metadata": {},
   "outputs": [
    {
     "ename": "TypeError",
     "evalue": "unsupported operand type(s) for /: 'list' and 'list'",
     "output_type": "error",
     "traceback": [
      "\u001b[0;31m---------------------------------------------------------------------------\u001b[0m",
      "\u001b[0;31mTypeError\u001b[0m                                 Traceback (most recent call last)",
      "Cell \u001b[0;32mIn[122], line 1\u001b[0m\n\u001b[0;32m----> 1\u001b[0m l_tan \u001b[38;5;241m=\u001b[39m [\u001b[43ml_sin1\u001b[49m\u001b[43m \u001b[49m\u001b[38;5;241;43m/\u001b[39;49m\u001b[43m \u001b[49m\u001b[43ml_cos1\u001b[49m]\n\u001b[1;32m      2\u001b[0m \u001b[38;5;28mprint\u001b[39m(l_tan) \n",
      "\u001b[0;31mTypeError\u001b[0m: unsupported operand type(s) for /: 'list' and 'list'"
     ]
    }
   ],
   "source": [
    "l_tan = [l_sin1 / l_cos1]\n",
    "print(l_tan) "
   ]
  },
  {
   "cell_type": "markdown",
   "metadata": {},
   "source": [
    "### 4. Print the value, sin, cos and tan of angles from 0.1 to 1.0 and 0.01 to 1.0, one on each line."
   ]
  },
  {
   "cell_type": "code",
   "execution_count": 110,
   "metadata": {},
   "outputs": [
    {
     "name": "stdout",
     "output_type": "stream",
     "text": [
      "0 0.09983341664682815\n",
      "1 0.19866933079506122\n",
      "2 0.29552020666133955\n",
      "3 0.3894183423086505\n",
      "4 0.479425538604203\n",
      "5 0.5646424733950354\n",
      "6 0.644217687237691\n",
      "7 0.7173560908995228\n",
      "8 0.7833269096274834\n",
      "9 0.8414709848078965\n",
      "\n",
      "0 0.9950041652780258\n",
      "1 0.9800665778412416\n",
      "2 0.955336489125606\n",
      "3 0.9210609940028851\n",
      "4 0.8775825618903728\n",
      "5 0.8253356149096783\n",
      "6 0.7648421872844885\n",
      "7 0.6967067093471654\n",
      "8 0.6216099682706644\n",
      "9 0.5403023058681398\n",
      "\n",
      "0 0.10033467208545054\n",
      "1 0.20271003550867248\n",
      "2 0.3093362496096232\n",
      "3 0.4227932187381618\n",
      "4 0.5463024898437905\n",
      "5 0.6841368083416923\n",
      "6 0.8422883804630793\n",
      "7 1.0296385570503641\n",
      "8 1.260158217550339\n",
      "9 1.557407724654902\n"
     ]
    }
   ],
   "source": [
    "# from 0.1 to 1.0\n",
    "l4 = []\n",
    "for index,element in enumerate(l_sin1):\n",
    "    print(index, element)\n",
    "print()\n",
    "for index,element in enumerate(l_cos1):\n",
    "    print(index, element)\n",
    "print()\n",
    "for index,element in enumerate(l_tan1):\n",
    "    print(index, element)\n"
   ]
  },
  {
   "cell_type": "code",
   "execution_count": 111,
   "metadata": {},
   "outputs": [
    {
     "name": "stdout",
     "output_type": "stream",
     "text": [
      "0 0.009999833334166664\n",
      "1 0.01999866669333308\n",
      "2 0.02999550020249566\n",
      "3 0.03998933418663416\n",
      "4 0.04997916927067833\n",
      "5 0.059964006479444595\n",
      "6 0.06994284733753277\n",
      "7 0.0799146939691727\n",
      "8 0.08987854919801104\n",
      "\n",
      "0 0.9999500004166653\n",
      "1 0.9998000066665778\n",
      "2 0.9995500337489875\n",
      "3 0.9992001066609779\n",
      "4 0.9987502603949663\n",
      "5 0.9982005399352042\n",
      "6 0.9975510002532796\n",
      "7 0.9968017063026194\n",
      "8 0.9959527330119943\n",
      "\n",
      "0 0.10033467208545054\n",
      "1 0.20271003550867248\n",
      "2 0.3093362496096232\n",
      "3 0.4227932187381618\n",
      "4 0.5463024898437905\n",
      "5 0.6841368083416923\n",
      "6 0.8422883804630793\n",
      "7 1.0296385570503641\n",
      "8 1.260158217550339\n",
      "9 1.557407724654902\n"
     ]
    }
   ],
   "source": [
    "# from 0.01 to 1.0\n",
    "l4 = []\n",
    "for index,element in enumerate(l_sin2):\n",
    "    print(index, element)\n",
    "print()\n",
    "for index,element in enumerate(l_cos2):\n",
    "    print(index, element)\n",
    "print()\n",
    "for index,element in enumerate(l_tan1):\n",
    "    print(index, element)\n"
   ]
  },
  {
   "cell_type": "markdown",
   "metadata": {},
   "source": [
    "### 5. Calculate take the square of the list of sin and cos and create another list containing their sum, and another list containing the sum of their squares"
   ]
  },
  {
   "cell_type": "code",
   "execution_count": 126,
   "metadata": {},
   "outputs": [
    {
     "name": "stdout",
     "output_type": "stream",
     "text": [
      "[[0.09983341664682815, 0.19866933079506122, 0.29552020666133955, 0.3894183423086505, 0.479425538604203, 0.5646424733950354, 0.644217687237691, 0.7173560908995228, 0.7833269096274834, 0.8414709848078965, 0.9950041652780258, 0.9800665778412416, 0.955336489125606, 0.9210609940028851, 0.8775825618903728, 0.8253356149096783, 0.7648421872844885, 0.6967067093471654, 0.6216099682706644, 0.5403023058681398]]\n",
      "[[0.009999833334166664, 0.01999866669333308, 0.02999550020249566, 0.03998933418663416, 0.04997916927067833, 0.059964006479444595, 0.06994284733753277, 0.0799146939691727, 0.08987854919801104, 0.9999500004166653, 0.9998000066665778, 0.9995500337489875, 0.9992001066609779, 0.9987502603949663, 0.9982005399352042, 0.9975510002532796, 0.9968017063026194, 0.9959527330119943]]\n"
     ]
    },
    {
     "ename": "TypeError",
     "evalue": "can't multiply sequence by non-int of type 'list'",
     "output_type": "error",
     "traceback": [
      "\u001b[0;31m---------------------------------------------------------------------------\u001b[0m",
      "\u001b[0;31mTypeError\u001b[0m                                 Traceback (most recent call last)",
      "Cell \u001b[0;32mIn[126], line 6\u001b[0m\n\u001b[1;32m      3\u001b[0m l_sum2 \u001b[38;5;241m=\u001b[39m [l_sin2 \u001b[38;5;241m+\u001b[39m l_cos2]\n\u001b[1;32m      4\u001b[0m \u001b[38;5;28mprint\u001b[39m(l_sum2)\n\u001b[0;32m----> 6\u001b[0m l_sin1sqr \u001b[38;5;241m=\u001b[39m [\u001b[43ml_sin1\u001b[49m\u001b[43m \u001b[49m\u001b[38;5;241;43m*\u001b[39;49m\u001b[43m \u001b[49m\u001b[43ml_sin1\u001b[49m]\n\u001b[1;32m      7\u001b[0m \u001b[38;5;28mprint\u001b[39m(l_sin1sqr)\n\u001b[1;32m      8\u001b[0m l_cos1sqr \u001b[38;5;241m=\u001b[39m [l_cos1 \u001b[38;5;241m*\u001b[39m l_cos1]\n",
      "\u001b[0;31mTypeError\u001b[0m: can't multiply sequence by non-int of type 'list'"
     ]
    }
   ],
   "source": [
    "l_sum1 = [l_sin1 + l_cos1]\n",
    "print(l_sum1)\n",
    "l_sum2 = [l_sin2 + l_cos2]\n",
    "print(l_sum2)\n",
    "\n",
    "l_sin1sqr = [l_sin1 * l_sin1]\n",
    "print(l_sin1sqr)\n",
    "l_cos1sqr = [l_cos1 * l_cos1]\n",
    "print(l_cos1sqr)\n",
    "l_add1 = [l_sin1sqr + l_cos1sqr]\n",
    "\n",
    "l_sin2sqr = [l_sin2 * l_sin2]\n",
    "print(l_sin2sqr)\n",
    "l_cos2sqr = [l_cos2 * l_cos2]\n",
    "print(l_cos2sqr)\n",
    "l_add2 = [l_sin2sqr + l_cos2sqr]"
   ]
  }
 ],
 "metadata": {
  "kernelspec": {
   "display_name": "Python 3",
   "language": "python",
   "name": "python3"
  },
  "language_info": {
   "codemirror_mode": {
    "name": "ipython",
    "version": 3
   },
   "file_extension": ".py",
   "mimetype": "text/x-python",
   "name": "python",
   "nbconvert_exporter": "python",
   "pygments_lexer": "ipython3",
   "version": "3.9.6"
  }
 },
 "nbformat": 4,
 "nbformat_minor": 2
}
