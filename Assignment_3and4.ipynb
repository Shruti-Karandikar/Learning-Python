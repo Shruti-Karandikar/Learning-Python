{
 "cells": [
  {
   "cell_type": "markdown",
   "metadata": {},
   "source": [
    "### 1. Create a list containing \n"
   ]
  },
  {
   "cell_type": "markdown",
   "metadata": {},
   "source": [
    "#### a. The numbers 0.1, 0.2, 0.3 … upto 1.0\n"
   ]
  },
  {
   "cell_type": "code",
   "execution_count": 2,
   "metadata": {},
   "outputs": [
    {
     "name": "stdout",
     "output_type": "stream",
     "text": [
      "[0.1, 0.2, 0.3, 0.4, 0.5, 0.6, 0.7, 0.8, 0.9, 1.0]\n"
     ]
    }
   ],
   "source": [
    "l = [i/10 for i in range(1, 11)]\n",
    "print(l)"
   ]
  },
  {
   "cell_type": "markdown",
   "metadata": {},
   "source": [
    "#### b. The numbers 0.01, 0.02, 0.03 … upto 1.0"
   ]
  },
  {
   "cell_type": "code",
   "execution_count": null,
   "metadata": {},
   "outputs": [
    {
     "name": "stdout",
     "output_type": "stream",
     "text": [
      "[0.01, 0.02, 0.03, 0.04, 0.05, 0.06, 0.07, 0.08, 0.09, 0.1]\n"
     ]
    }
   ],
   "source": [
    "l2 = [i/100 for i in range(1, 11)]\n",
    "print(l2)"
   ]
  },
  {
   "cell_type": "markdown",
   "metadata": {},
   "source": [
    "### 2. Create a list of sin and cos of numbers from 0.1 … 1.0 and 0.01 … 1.0\n"
   ]
  },
  {
   "cell_type": "code",
   "execution_count": 6,
   "metadata": {},
   "outputs": [],
   "source": [
    "import math"
   ]
  },
  {
   "cell_type": "code",
   "execution_count": null,
   "metadata": {},
   "outputs": [
    {
     "name": "stdout",
     "output_type": "stream",
     "text": [
      "[0.09983341664682815, 0.19866933079506122, 0.29552020666133955, 0.3894183423086505, 0.479425538604203, 0.5646424733950354, 0.644217687237691, 0.7173560908995228, 0.7833269096274834, 0.8414709848078965]\n",
      "[0.9950041652780258, 0.9800665778412416, 0.955336489125606, 0.9210609940028851, 0.8775825618903728, 0.8253356149096783, 0.7648421872844885, 0.6967067093471654, 0.6216099682706644, 0.5403023058681398]\n"
     ]
    }
   ],
   "source": [
    "# sin values form 0.1 to 1.0\n",
    "l_sin1 = [math.sin(i/10) for i in range(1, 11)]\n",
    "print(l_sin1) \n",
    "\n",
    "# cos values form 0.1 to 1.0\n",
    "l_cos1 = [math.cos(i/10) for i in range(1, 11)]\n",
    "print(l_cos1) "
   ]
  },
  {
   "cell_type": "code",
   "execution_count": 11,
   "metadata": {},
   "outputs": [
    {
     "name": "stdout",
     "output_type": "stream",
     "text": [
      "[0.009999833334166664, 0.01999866669333308, 0.02999550020249566, 0.03998933418663416, 0.04997916927067833, 0.059964006479444595, 0.06994284733753277, 0.0799146939691727, 0.08987854919801104, 0.09983341664682815]\n",
      "[0.9999500004166653, 0.9998000066665778, 0.9995500337489875, 0.9992001066609779, 0.9987502603949663, 0.9982005399352042, 0.9975510002532796, 0.9968017063026194, 0.9959527330119943, 0.9950041652780258]\n"
     ]
    }
   ],
   "source": [
    "# sin values form 0.01 to 1.0\n",
    "l_sin2 = [math.sin(i/100) for i in range(1, 11)]\n",
    "print(l_sin2) \n",
    "\n",
    "# cos values form 0.01 to 1.0\n",
    "l_cos2 = [math.cos(i/100) for i in range(1, 11)]\n",
    "print(l_cos2) "
   ]
  },
  {
   "cell_type": "markdown",
   "metadata": {},
   "source": [
    "### 3. Create a list of tan() for numbers from 0.1 … 1.0 and 0.01 … 1.0\n",
    "\n",
    "tan() is easily calculated using tan(x) = sin(x) / cos(x)."
   ]
  },
  {
   "cell_type": "code",
   "execution_count": 28,
   "metadata": {},
   "outputs": [
    {
     "name": "stdout",
     "output_type": "stream",
     "text": [
      "[0.10033467208545054, 0.20271003550867248, 0.3093362496096232, 0.4227932187381618, 0.5463024898437905, 0.6841368083416923, 0.8422883804630793, 1.0296385570503641, 1.2601582175503394, 1.557407724654902]\n",
      "[0.010000333346667205, 0.020002667093402426, 0.030009003241180714, 0.040021346995514566, 0.05004170837553879, 0.06007210383129728, 0.07011455787200271, 0.08017110470807257, 0.09024378990978543, 0.10033467208545054]\n"
     ]
    }
   ],
   "source": [
    "# tan values form 0.1 to 1.0\n",
    "l_tan1 = [l_sin1[i]/l_cos1[i] for i in range(len(l_sin1))]\n",
    "print(l_tan1) \n",
    "# tan values form 0.01 to 1.0\n",
    "l_tan2 = [l_sin2[i]/l_cos2[i] for i in range(len(l_sin2))]\n",
    "print(l_tan2)"
   ]
  },
  {
   "cell_type": "markdown",
   "metadata": {},
   "source": [
    "### 4. Print the value, sin, cos and tan of angles from 0.1 to 1.0 and 0.01 to 1.0, one on each line."
   ]
  },
  {
   "cell_type": "code",
   "execution_count": null,
   "metadata": {},
   "outputs": [
    {
     "name": "stdout",
     "output_type": "stream",
     "text": [
      "0 0.09983341664682815 0.9950041652780258 0.010000333346667205\n",
      "1 0.19866933079506122 0.9800665778412416 0.020002667093402426\n",
      "2 0.29552020666133955 0.955336489125606 0.030009003241180714\n",
      "3 0.3894183423086505 0.9210609940028851 0.040021346995514566\n",
      "4 0.479425538604203 0.8775825618903728 0.05004170837553879\n",
      "5 0.5646424733950354 0.8253356149096783 0.06007210383129728\n",
      "6 0.644217687237691 0.7648421872844885 0.07011455787200271\n",
      "7 0.7173560908995228 0.6967067093471654 0.08017110470807257\n",
      "8 0.7833269096274834 0.6216099682706644 0.09024378990978543\n",
      "9 0.8414709848078965 0.5403023058681398 0.10033467208545054\n"
     ]
    }
   ],
   "source": [
    "# from 0.1 to 1.0\n",
    "for index, vals in enumerate(zip(l_sin1, l_cos1, l_tan1)):\n",
    "    sn = vals[0]\n",
    "    cs = vals[1]\n",
    "    tn = vals[2]\n",
    "    print(index, sn, cs, tn)"
   ]
  },
  {
   "cell_type": "code",
   "execution_count": 29,
   "metadata": {},
   "outputs": [
    {
     "name": "stdout",
     "output_type": "stream",
     "text": [
      "0 0.009999833334166664 0.9999500004166653 0.010000333346667205\n",
      "1 0.01999866669333308 0.9998000066665778 0.020002667093402426\n",
      "2 0.02999550020249566 0.9995500337489875 0.030009003241180714\n",
      "3 0.03998933418663416 0.9992001066609779 0.040021346995514566\n",
      "4 0.04997916927067833 0.9987502603949663 0.05004170837553879\n",
      "5 0.059964006479444595 0.9982005399352042 0.06007210383129728\n",
      "6 0.06994284733753277 0.9975510002532796 0.07011455787200271\n",
      "7 0.0799146939691727 0.9968017063026194 0.08017110470807257\n",
      "8 0.08987854919801104 0.9959527330119943 0.09024378990978543\n",
      "9 0.09983341664682815 0.9950041652780258 0.10033467208545054\n"
     ]
    }
   ],
   "source": [
    "# from 0.01 to 1.0\n",
    "for index, vals in enumerate(zip(l_sin2, l_cos2, l_tan2)):\n",
    "    sn = vals[0]\n",
    "    cs = vals[1]\n",
    "    tn = vals[2]\n",
    "    print(index, sn, cs, tn)\n"
   ]
  },
  {
   "cell_type": "markdown",
   "metadata": {},
   "source": [
    "### 5. Calculate the sum of their squares"
   ]
  },
  {
   "cell_type": "code",
   "execution_count": null,
   "metadata": {},
   "outputs": [
    {
     "name": "stdout",
     "output_type": "stream",
     "text": [
      "[1.0, 1.0, 1.0, 1.0, 1.0, 1.0, 1.0, 1.0, 1.0, 1.0]\n"
     ]
    }
   ],
   "source": [
    "l4 = [(sn*sn)+(cs*cs) for sn, cs  in zip(l_sin1,l_cos1)]\n",
    "print(l4)"
   ]
  }
 ],
 "metadata": {
  "kernelspec": {
   "display_name": "Python 3",
   "language": "python",
   "name": "python3"
  },
  "language_info": {
   "codemirror_mode": {
    "name": "ipython",
    "version": 3
   },
   "file_extension": ".py",
   "mimetype": "text/x-python",
   "name": "python",
   "nbconvert_exporter": "python",
   "pygments_lexer": "ipython3",
   "version": "3.9.6"
  }
 },
 "nbformat": 4,
 "nbformat_minor": 2
}
