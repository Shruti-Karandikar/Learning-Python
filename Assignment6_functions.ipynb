{
 "cells": [
  {
   "cell_type": "code",
   "execution_count": 42,
   "metadata": {},
   "outputs": [],
   "source": [
    "import random"
   ]
  },
  {
   "cell_type": "markdown",
   "metadata": {},
   "source": [
    "### Uniform Distribution\n",
    "\n",
    "if I generate a random number between one and ten, the probablity of geting any value is 1/10. If I generate a number between 1 and n then the probablity of getting any value is 1/n.\n",
    "\n",
    "- If I randomly generate 10 numbers in the range 1 to 10 then the probablity of observing any one value is 1.\n",
    "- Suppose I am choosing 10 numbers in the range 1 to 20 the probablity of getting any one value is 1/2.\n",
    "- Suppose I am choosing 20 numbers in a range of 1 to 10 each valuse will occure twice. \n",
    "\n",
    "### Pigeon Hole Principle\n",
    "If I have 21 pigeons and 20 pigeon holes then there must be atleast one pigeon hole with 2 pigeons. \n",
    "\n",
    "This  can be directly applied to the random numbers generated above to explain their frequencies.\n",
    "\n"
   ]
  },
  {
   "cell_type": "markdown",
   "metadata": {},
   "source": [
    "### Generate a list L of 100 random integers. Take an integer k from the user (using one of the above functions). Write a function that takes L and k and returns the index of k in L (if it exists) or None otherwise"
   ]
  },
  {
   "cell_type": "code",
   "execution_count": 43,
   "metadata": {},
   "outputs": [
    {
     "name": "stdout",
     "output_type": "stream",
     "text": [
      "[10, 6, 10, 6, 10, 10, 6, 8, 7, 8, 9, 7, 9, 9, 9, 5, 8, 9, 6, 7, 8, 10, 9, 10, 8, 6, 7, 9, 6, 7, 7, 6, 7, 5, 8, 8, 10, 5, 5, 10, 5, 10, 9, 8, 6, 6, 8, 9, 7, 10, 7, 10, 5, 7, 6, 10, 5, 10, 9, 9, 6, 8, 5, 8, 10, 8, 8, 10, 5, 6, 7, 10, 5, 10, 6, 5, 9, 7, 5, 9, 8, 7, 6, 10, 9, 7, 8, 6, 5, 10, 7, 7, 9, 8, 5, 6, 8, 5, 8, 7]\n"
     ]
    }
   ],
   "source": [
    "# lets generate a list of random integers \n",
    "a = []\n",
    "for  i in range(100):\n",
    "    a.append(random.randint(5, 10))\n",
    "print(a)"
   ]
  },
  {
   "cell_type": "code",
   "execution_count": 44,
   "metadata": {},
   "outputs": [],
   "source": [
    "# Same with list comprehension \n",
    "L = [random.randint(1, 50) for _ in range(100)]"
   ]
  },
  {
   "cell_type": "code",
   "execution_count": 45,
   "metadata": {},
   "outputs": [
    {
     "name": "stdout",
     "output_type": "stream",
     "text": [
      "7\n",
      "72\n",
      "87\n"
     ]
    }
   ],
   "source": [
    "# Next, implement the search \n",
    "k = 5\n",
    "for index, element in enumerate(L):\n",
    "    if k == element:\n",
    "        print(index)"
   ]
  },
  {
   "cell_type": "code",
   "execution_count": 46,
   "metadata": {},
   "outputs": [],
   "source": [
    "# Finally, convert to a function \n",
    "def F(L, k):\n",
    "    for index, element in enumerate(L):\n",
    "        if k == element:\n",
    "            return index\n",
    "    return None   "
   ]
  },
  {
   "cell_type": "code",
   "execution_count": 47,
   "metadata": {},
   "outputs": [
    {
     "name": "stdout",
     "output_type": "stream",
     "text": [
      "53\n"
     ]
    }
   ],
   "source": [
    "# Test\n",
    "r = F(L, 2)\n",
    "print(r)\n"
   ]
  },
  {
   "cell_type": "markdown",
   "metadata": {},
   "source": [
    "### Write a function that takes a list L of numbers and returns their mean, median and standard deviation"
   ]
  },
  {
   "cell_type": "markdown",
   "metadata": {},
   "source": [
    "Mean is the average of a set of numbers, calculated by dividing the sum of all numbers by the total count.\n",
    "\n",
    "Median is the middle value of a data set when arranged in ascending or descending order. Half the elements are less than the median, and half are greater.\n",
    "\n",
    "Standard Deviation is a measure of how much the values in a data set vary from the mean."
   ]
  },
  {
   "cell_type": "code",
   "execution_count": 48,
   "metadata": {},
   "outputs": [
    {
     "name": "stdout",
     "output_type": "stream",
     "text": [
      "24.06\n"
     ]
    }
   ],
   "source": [
    "mean = 0\n",
    "for e in L:\n",
    "    mean = mean + e\n",
    "mean = mean/len(L)\n",
    "print(mean)"
   ]
  },
  {
   "cell_type": "code",
   "execution_count": 49,
   "metadata": {},
   "outputs": [],
   "source": [
    "L = [random.randint(1, 50) for _ in range(10)]"
   ]
  },
  {
   "cell_type": "code",
   "execution_count": 50,
   "metadata": {},
   "outputs": [
    {
     "name": "stdout",
     "output_type": "stream",
     "text": [
      "[6, 9, 11, 11, 16, 17, 18, 27, 29, 36]\n",
      "16.5\n"
     ]
    }
   ],
   "source": [
    "L.sort()\n",
    "print(L)\n",
    "median = 0\n",
    "n = len(L)\n",
    "if n % 2 == 0:\n",
    "    median = (L[(n-1)//2] + L[n//2])/2\n",
    "else:\n",
    "    median = L[n//2]\n",
    "print(median)"
   ]
  },
  {
   "cell_type": "code",
   "execution_count": 51,
   "metadata": {},
   "outputs": [
    {
     "name": "stdout",
     "output_type": "stream",
     "text": [
      "11.05095470988819\n"
     ]
    }
   ],
   "source": [
    "var = 0\n",
    "for e in L:\n",
    "    var = var + (e - mean)**2\n",
    "var = var/len(L)\n",
    "print(var**0.5)"
   ]
  },
  {
   "cell_type": "markdown",
   "metadata": {},
   "source": [
    " With functions:"
   ]
  },
  {
   "cell_type": "code",
   "execution_count": 52,
   "metadata": {},
   "outputs": [],
   "source": [
    "def mean(L):\n",
    "    mean = 0\n",
    "    for e in L:\n",
    "        mean = mean + e\n",
    "    mean = mean/len(L)\n",
    "    return mean"
   ]
  },
  {
   "cell_type": "code",
   "execution_count": 53,
   "metadata": {},
   "outputs": [
    {
     "name": "stdout",
     "output_type": "stream",
     "text": [
      "18.0\n"
     ]
    }
   ],
   "source": [
    "print(mean(L))"
   ]
  },
  {
   "cell_type": "code",
   "execution_count": 54,
   "metadata": {},
   "outputs": [],
   "source": [
    "def median(L):\n",
    "    L.sort()\n",
    "    print(L)\n",
    "    median = 0\n",
    "    n = len(L)\n",
    "    if n % 2 == 0:\n",
    "        median = (L[(n-1)//2] + L[n//2])/2\n",
    "    else:\n",
    "        median = L[n//2]\n",
    "    return median"
   ]
  },
  {
   "cell_type": "code",
   "execution_count": 55,
   "metadata": {},
   "outputs": [
    {
     "name": "stdout",
     "output_type": "stream",
     "text": [
      "[6, 9, 11, 11, 16, 17, 18, 27, 29, 36]\n",
      "16.5\n"
     ]
    }
   ],
   "source": [
    "print(median(L))"
   ]
  },
  {
   "cell_type": "code",
   "execution_count": 56,
   "metadata": {},
   "outputs": [],
   "source": [
    "def stddev(L):\n",
    "    var = 0\n",
    "    m = mean(L)\n",
    "    for e in L:\n",
    "        var = var + (e - m)**2\n",
    "    var = var/len(L)\n",
    "    sd = var**0.5\n",
    "    return sd"
   ]
  },
  {
   "cell_type": "code",
   "execution_count": 57,
   "metadata": {},
   "outputs": [
    {
     "name": "stdout",
     "output_type": "stream",
     "text": [
      "9.241212041718338\n"
     ]
    }
   ],
   "source": [
    "print(stddev(L))"
   ]
  },
  {
   "cell_type": "markdown",
   "metadata": {},
   "source": [
    "### Write a function that takes three numbers and returns True or False if the three numbers form a pythagorean triple or not"
   ]
  },
  {
   "cell_type": "code",
   "execution_count": 1,
   "metadata": {},
   "outputs": [],
   "source": [
    "def triplet(a, b, c):\n",
    "    if (a**2) + (b**2) == (c**2):\n",
    "        return True\n",
    "    elif (c**2) + (b**2) == (a**2):\n",
    "        return True\n",
    "    elif (a**2) + (c**2) == (b**2):\n",
    "        return True\n",
    "    else:\n",
    "        return False"
   ]
  },
  {
   "cell_type": "code",
   "execution_count": 2,
   "metadata": {},
   "outputs": [
    {
     "name": "stdout",
     "output_type": "stream",
     "text": [
      "True\n"
     ]
    }
   ],
   "source": [
    "a = int(input())\n",
    "b = int(input())\n",
    "c = int(input())\n",
    "print(triplet(a, b, c))"
   ]
  },
  {
   "cell_type": "markdown",
   "metadata": {},
   "source": [
    "### Write a function that calculates the number of ways of choosing k items from n\n",
    "The formula is $C(n,k) = \\frac{n!}{k!(n-k)!}$\n",
    "\n",
    "In order to calculate this, we need to calculate the factorial which i implement as a function."
   ]
  },
  {
   "cell_type": "code",
   "execution_count": null,
   "metadata": {},
   "outputs": [
    {
     "name": "stdout",
     "output_type": "stream",
     "text": [
      "3628800\n"
     ]
    }
   ],
   "source": [
    "# How to calculate a factorial\n",
    "f = 1\n",
    "n = 10\n",
    "for i in range(1, n + 1):\n",
    "    f = f * i\n",
    "print(f)"
   ]
  },
  {
   "cell_type": "code",
   "execution_count": null,
   "metadata": {},
   "outputs": [
    {
     "name": "stdout",
     "output_type": "stream",
     "text": [
      "3628800\n"
     ]
    }
   ],
   "source": [
    "#function\n",
    "def factorial(n):\n",
    "    f = 1\n",
    "    for i in range(1, n + 1):\n",
    "        f = f * i\n",
    "    return f\n",
    "print(factorial(10))"
   ]
  },
  {
   "cell_type": "code",
   "execution_count": null,
   "metadata": {},
   "outputs": [],
   "source": [
    "## Function for C(n, k)\n",
    "def nchoosek(n, k):\n",
    "    nck = factorial(n)//(factorial(k)*factorial(n-k))\n",
    "    return nck"
   ]
  },
  {
   "cell_type": "markdown",
   "metadata": {},
   "source": [
    "Note to self: it seems that `factorial` gets called multiple times for the same number. can this be optimized?"
   ]
  },
  {
   "cell_type": "markdown",
   "metadata": {},
   "source": [
    "### Write a function that prints the first n rows of Pascal’s Triangle\n",
    "\n"
   ]
  },
  {
   "cell_type": "code",
   "execution_count": null,
   "metadata": {},
   "outputs": [
    {
     "name": "stdout",
     "output_type": "stream",
     "text": [
      "1 7 21 35 35 21 7 1 "
     ]
    }
   ],
   "source": [
    "# For a particular row\n",
    "n = int(input())\n",
    "for k in range(n + 1):\n",
    "    print(nchoosek(n,k), end = \" \")"
   ]
  },
  {
   "cell_type": "code",
   "execution_count": null,
   "metadata": {},
   "outputs": [
    {
     "name": "stdout",
     "output_type": "stream",
     "text": [
      "1 \n",
      "1 1 \n",
      "1 2 1 \n",
      "1 3 3 1 \n",
      "1 4 6 4 1 \n",
      "1 5 10 10 5 1 \n"
     ]
    }
   ],
   "source": [
    "# Pascals triangle\n",
    "n = int(input())\n",
    "for i in range(n + 1):\n",
    "    for k in range(i + 1):\n",
    "        print(nchoosek(i,k), end = \" \")\n",
    "    print()"
   ]
  },
  {
   "cell_type": "code",
   "execution_count": null,
   "metadata": {},
   "outputs": [],
   "source": [
    "##As a function\n",
    "def PT(n):\n",
    "    for i in range(n + 1):\n",
    "        for k in range(i + 1):\n",
    "            print(nchoosek(i,k), end = \" \")\n",
    "        print()"
   ]
  },
  {
   "cell_type": "code",
   "execution_count": null,
   "metadata": {},
   "outputs": [
    {
     "name": "stdout",
     "output_type": "stream",
     "text": [
      "1 \n",
      "1 1 \n",
      "1 2 1 \n",
      "1 3 3 1 \n",
      "1 4 6 4 1 \n",
      "1 5 10 10 5 1 \n",
      "1 6 15 20 15 6 1 \n",
      "1 7 21 35 35 21 7 1 \n",
      "1 8 28 56 70 56 28 8 1 \n",
      "1 9 36 84 126 126 84 36 9 1 \n",
      "1 10 45 120 210 252 210 120 45 10 1 \n"
     ]
    }
   ],
   "source": [
    "PT(10)"
   ]
  },
  {
   "cell_type": "markdown",
   "metadata": {},
   "source": [
    "### Write a function that calculates sin(x), cos(x) and e^x using the Taylor Series expansions\n",
    "\n",
    "$$ e^x = \\sum_{i = 0}^\\infty \\frac{x^i}{i!}  $$\n",
    "$$ \\sin(x) = \\sum_{i = 0}^\\infty (-1)^i\\frac{x^{2i + 1}}{(2i + 1)!}  $$\n",
    "$$ \\cos(x) = \\sum_{i = 0}^\\infty (-1)^i\\frac{x^{2i}}{({2i})!}  $$"
   ]
  },
  {
   "cell_type": "code",
   "execution_count": null,
   "metadata": {},
   "outputs": [],
   "source": [
    "# This is a straightforward implementation of the Taylor Series. Hardcoded to take the first 10 terms. \n",
    "def exp(x):\n",
    "    ex = 0\n",
    "    for i in range(10):\n",
    "        ex = ex + ((x**i)/ factorial(i))\n",
    "    return ex\n",
    "\n",
    "def sin(x):\n",
    "    sx = 0\n",
    "    for i in range(10):\n",
    "        sx = sx + ((-1)** i )*(x**((2*i) + 1))/ factorial(2*i +1)\n",
    "    return sx\n",
    "\n",
    "def cos(x):\n",
    "    cx = 0\n",
    "    for i in range(10):\n",
    "        cx = cx + ((-1)** i )*((x**(2*i))/ factorial(2*i))\n",
    "    return cx"
   ]
  },
  {
   "cell_type": "code",
   "execution_count": 62,
   "metadata": {},
   "outputs": [],
   "source": [
    "import math"
   ]
  },
  {
   "cell_type": "code",
   "execution_count": null,
   "metadata": {},
   "outputs": [
    {
     "name": "stdout",
     "output_type": "stream",
     "text": [
      "1.1313269601506666 1.131336865198686\n",
      "8.755171270409782e-06\n"
     ]
    }
   ],
   "source": [
    "# Test for corretness: compare me implementation with the library implementation.\n",
    "x = 0.1234\n",
    "e1 = exp(x)\n",
    "e2 = math.exp(x)\n",
    "print(e1, e2)\n",
    "print((e2 - e1)/e2)"
   ]
  },
  {
   "cell_type": "code",
   "execution_count": null,
   "metadata": {},
   "outputs": [
    {
     "name": "stdout",
     "output_type": "stream",
     "text": [
      "0.12308705821137626 0.12308705821137626\n",
      "0.0\n"
     ]
    }
   ],
   "source": [
    "s1 = sin(x)\n",
    "s2 = math.sin(x)\n",
    "print(s1, s2)\n",
    "print((s2 - s1)/s2)"
   ]
  },
  {
   "cell_type": "code",
   "execution_count": null,
   "metadata": {},
   "outputs": [
    {
     "name": "stdout",
     "output_type": "stream",
     "text": [
      "0.9923958767048909 0.992395876704891\n",
      "1.1187299853678289e-16\n"
     ]
    }
   ],
   "source": [
    "c1 = cos(x)\n",
    "c2 = math.cos(x)\n",
    "print(c1, c2)\n",
    "print((c2 - c1)/c2)"
   ]
  },
  {
   "cell_type": "markdown",
   "metadata": {},
   "source": [
    "In the above, i am only testing with one value. The error will depend on the value chosen. Hence first, calculate error for a range of values. Next, make the number of terms in the Taylor series a parameter and evaluate the function for different values. \n",
    "\n",
    "Finally, I plot the error as a function of the number of terms."
   ]
  },
  {
   "cell_type": "code",
   "execution_count": 90,
   "metadata": {},
   "outputs": [],
   "source": [
    "# Added parameter to control the number of terms\n",
    "def exp(x, n):\n",
    "    ex = 0\n",
    "    for i in range(n):\n",
    "        ex = ex + ((x**i)/ factorial(i))\n",
    "    return ex\n",
    "\n",
    "def sin(x, n):\n",
    "    sx = 0\n",
    "    for i in range(n):\n",
    "        sx = sx + ((-1)** i )*(x**((2*i) + 1))/ factorial(2*i +1)\n",
    "    return sx\n",
    "\n",
    "def cos(x, n):\n",
    "    cx = 0\n",
    "    for i in range(n):\n",
    "        cx = cx + ((-1)** i )*((x**(2*i))/ factorial(2*i))\n",
    "    return cx"
   ]
  },
  {
   "cell_type": "code",
   "execution_count": 86,
   "metadata": {},
   "outputs": [
    {
     "name": "stdout",
     "output_type": "stream",
     "text": [
      "[3.3516426700482578, 1.5401670889297945, 7.966149188025372, 0.09150013777012145, 1.5773216592916812, 0.8228728854021021, 6.627305198951927, 0.028530647290924804, 2.50528999307018, 3.931472545401337, 6.405680293093494, 6.227309234037724, 3.4796642496034442, 7.753818175198977, 1.7446998470967383, 3.212854806808286, 5.14320953640041, 7.52478372845243, 1.0745290190849541, 6.788568127265923, 3.338548547884578, 3.5866159421858015, 6.972917512046204, 3.024623819038731, 0.520602092800976, 0.4857604333726302, 7.639071869445004, 3.5553015462899538, 5.126573847534203, 6.674077631379585, 2.7535151587828297, 4.966296591548862, 3.1927861835074047, 2.7187627471924785, 5.55896640181939, 0.32390543527642546, 3.6875345309146725, 2.0804452247578915, 3.650102718242075, 5.784006779462921, 6.8020587557319825, 7.264746224230283, 1.0331555626443176, 0.5784965188696782, 4.950064742064158, 5.191653444491558, 2.48031447627148, 1.3670039009757842, 1.0578464443227036, 1.3265888788784697]\n"
     ]
    }
   ],
   "source": [
    "l = [random.random()*8 for i in range(50)]\n",
    "print(l)"
   ]
  },
  {
   "cell_type": "code",
   "execution_count": 92,
   "metadata": {},
   "outputs": [],
   "source": [
    "# Lists to store the avg errors for each input for different number of iterations. avg_e[n] stores the error over all inputs when calculating with n terms. \n",
    "avg_e = []\n",
    "avg_s = []\n",
    "avg_c = []\n",
    "# Vary the number of terms from 0 to 14\n",
    "for n in range(15):\n",
    "    avge = 0\n",
    "    avgs = 0\n",
    "    avgc = 0\n",
    "    # Calculate values for each input.\n",
    "    for k in l:\n",
    "        e1 = exp(k, n)\n",
    "        e2 = math.exp(k)\n",
    "        avge = avge + (e1 - e2)**2\n",
    "\n",
    "        e1 = sin(k, n)\n",
    "        e2 = math.sin(k)\n",
    "        avgs = avgs + (e1 - e2)**2\n",
    "\n",
    "        e1 = cos(k, n)\n",
    "        e2 = math.cos(k)\n",
    "        avgc = avgc + (e1 - e2)**2\n",
    "    avge = avge/len(l)\n",
    "    avg_e.append(avge)\n",
    "\n",
    "    avgs = avgs/len(l)\n",
    "    avg_s.append(avgs)\n",
    "\n",
    "    avgc = avgc/len(l)\n",
    "    avg_c.append(avgc)\n"
   ]
  },
  {
   "cell_type": "code",
   "execution_count": 100,
   "metadata": {},
   "outputs": [
    {
     "data": {
      "text/plain": [
       "[<matplotlib.lines.Line2D at 0x122a17160>]"
      ]
     },
     "execution_count": 100,
     "metadata": {},
     "output_type": "execute_result"
    },
    {
     "data": {
      "image/png": "[encoded data removed]",
      "text/plain": [
       "<Figure size 640x480 with 1 Axes>"
      ]
     },
     "metadata": {},
     "output_type": "display_data"
    }
   ],
   "source": [
    "import matplotlib.pyplot as plt\n",
    "\n",
    "#plt.plot(avg_e)\n",
    "plt.plot(avg_s)\n",
    "plt.plot(avg_c)\n",
    "\n",
    "#plt.yscale('log')"
   ]
  },
  {
   "cell_type": "markdown",
   "metadata": {},
   "source": [
    "### Implement Euclid’s GCD algorithm – recursively"
   ]
  },
  {
   "cell_type": "code",
   "execution_count": null,
   "metadata": {},
   "outputs": [],
   "source": [
    "def gcd(x, y):\n",
    "    if y == 0:\n",
    "        return x\n",
    "    r = int(x % y)\n",
    "    return gcd(y, r)"
   ]
  },
  {
   "cell_type": "code",
   "execution_count": 31,
   "metadata": {},
   "outputs": [
    {
     "name": "stdout",
     "output_type": "stream",
     "text": [
      "10\n"
     ]
    }
   ],
   "source": [
    "print(gcd(60, 50))"
   ]
  }
 ],
 "metadata": {
  "kernelspec": {
   "display_name": "Python 3",
   "language": "python",
   "name": "python3"
  },
  "language_info": {
   "codemirror_mode": {
    "name": "ipython",
    "version": 3
   },
   "file_extension": ".py",
   "mimetype": "text/x-python",
   "name": "python",
   "nbconvert_exporter": "python",
   "pygments_lexer": "ipython3",
   "version": "3.9.6"
  }
 },
 "nbformat": 4,
 "nbformat_minor": 2
}
